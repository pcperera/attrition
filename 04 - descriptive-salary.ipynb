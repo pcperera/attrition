{
 "cells": [
  {
   "cell_type": "code",
   "execution_count": 5,
   "outputs": [
    {
     "name": "stdout",
     "output_type": "stream",
     "text": [
      "<class 'pandas.core.frame.DataFrame'>\n",
      "RangeIndex: 207748 entries, 0 to 207747\n",
      "Data columns (total 5 columns):\n",
      " #   Column       Non-Null Count   Dtype  \n",
      "---  ------       --------------   -----  \n",
      " 0   Employee_No  207748 non-null  int64  \n",
      " 1   FactorName   207748 non-null  object \n",
      " 2   Amount       207748 non-null  float64\n",
      " 3   month        207748 non-null  int64  \n",
      " 4   year         207748 non-null  int64  \n",
      "dtypes: float64(1), int64(3), object(1)\n",
      "memory usage: 7.9+ MB\n"
     ]
    }
   ],
   "source": [
    "import matplotlib.pyplot as plt\n",
    "import pandas as pd\n",
    "import seaborn\n",
    "\n",
    "df = pd.read_csv('data/salary.csv')\n",
    "df.info()"
   ],
   "metadata": {
    "collapsed": false
   }
  },
  {
   "cell_type": "code",
   "execution_count": 6,
   "outputs": [
    {
     "data": {
      "text/plain": "         Employee_No        Amount          month           year\ncount  207748.000000  2.077480e+05  207748.000000  207748.000000\nmean     1493.814545  9.774814e+03    2021.473766       6.745644\nstd       706.744015  2.470517e+04       0.581806       3.643491\nmin       347.000000  2.500000e-01    2020.000000       1.000000\n25%       846.000000  1.000000e+02    2021.000000       3.000000\n50%      1531.000000  7.800000e+02    2022.000000       7.000000\n75%      2072.000000  8.320000e+03    2022.000000      10.000000\nmax      3045.000000  1.200000e+06    2022.000000      12.000000",
      "text/html": "<div>\n<style scoped>\n    .dataframe tbody tr th:only-of-type {\n        vertical-align: middle;\n    }\n\n    .dataframe tbody tr th {\n        vertical-align: top;\n    }\n\n    .dataframe thead th {\n        text-align: right;\n    }\n</style>\n<table border=\"1\" class=\"dataframe\">\n  <thead>\n    <tr style=\"text-align: right;\">\n      <th></th>\n      <th>Employee_No</th>\n      <th>Amount</th>\n      <th>month</th>\n      <th>year</th>\n    </tr>\n  </thead>\n  <tbody>\n    <tr>\n      <th>count</th>\n      <td>207748.000000</td>\n      <td>2.077480e+05</td>\n      <td>207748.000000</td>\n      <td>207748.000000</td>\n    </tr>\n    <tr>\n      <th>mean</th>\n      <td>1493.814545</td>\n      <td>9.774814e+03</td>\n      <td>2021.473766</td>\n      <td>6.745644</td>\n    </tr>\n    <tr>\n      <th>std</th>\n      <td>706.744015</td>\n      <td>2.470517e+04</td>\n      <td>0.581806</td>\n      <td>3.643491</td>\n    </tr>\n    <tr>\n      <th>min</th>\n      <td>347.000000</td>\n      <td>2.500000e-01</td>\n      <td>2020.000000</td>\n      <td>1.000000</td>\n    </tr>\n    <tr>\n      <th>25%</th>\n      <td>846.000000</td>\n      <td>1.000000e+02</td>\n      <td>2021.000000</td>\n      <td>3.000000</td>\n    </tr>\n    <tr>\n      <th>50%</th>\n      <td>1531.000000</td>\n      <td>7.800000e+02</td>\n      <td>2022.000000</td>\n      <td>7.000000</td>\n    </tr>\n    <tr>\n      <th>75%</th>\n      <td>2072.000000</td>\n      <td>8.320000e+03</td>\n      <td>2022.000000</td>\n      <td>10.000000</td>\n    </tr>\n    <tr>\n      <th>max</th>\n      <td>3045.000000</td>\n      <td>1.200000e+06</td>\n      <td>2022.000000</td>\n      <td>12.000000</td>\n    </tr>\n  </tbody>\n</table>\n</div>"
     },
     "execution_count": 6,
     "metadata": {},
     "output_type": "execute_result"
    }
   ],
   "source": [
    "df.describe()"
   ],
   "metadata": {
    "collapsed": false
   }
  }
 ],
 "metadata": {
  "kernelspec": {
   "display_name": "Python 3 (ipykernel)",
   "language": "python",
   "name": "python3"
  },
  "language_info": {
   "codemirror_mode": {
    "name": "ipython",
    "version": 3
   },
   "file_extension": ".py",
   "mimetype": "text/x-python",
   "name": "python",
   "nbconvert_exporter": "python",
   "pygments_lexer": "ipython3",
   "version": "3.9.13"
  }
 },
 "nbformat": 4,
 "nbformat_minor": 5
}
