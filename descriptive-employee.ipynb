{
 "cells": [
  {
   "cell_type": "code",
   "execution_count": 104,
   "id": "7eb156bc",
   "metadata": {
    "scrolled": false
   },
   "outputs": [
    {
     "name": "stdout",
     "output_type": "stream",
     "text": [
      "<class 'pandas.core.frame.DataFrame'>\n",
      "RangeIndex: 1261 entries, 0 to 1260\n",
      "Data columns (total 23 columns):\n",
      " #   Column               Non-Null Count  Dtype         \n",
      "---  ------               --------------  -----         \n",
      " 0   Employee_No          1261 non-null   int64         \n",
      " 1   Employee_Code        1261 non-null   int64         \n",
      " 2   Name                 1261 non-null   object        \n",
      " 3   Title                1261 non-null   object        \n",
      " 4   Address_Line_1       1261 non-null   object        \n",
      " 5   Address_Line_2       1181 non-null   object        \n",
      " 6   Address_Line_3       952 non-null    object        \n",
      " 7   Date_of_Birth        1261 non-null   object        \n",
      " 8   Gender               1261 non-null   object        \n",
      " 9   Religion_ID          1261 non-null   int64         \n",
      " 10  Marital_Status       1170 non-null   object        \n",
      " 11  Designation_ID       1261 non-null   int64         \n",
      " 12  Date_Joined          1261 non-null   datetime64[ns]\n",
      " 13  Date_Resigned        955 non-null    object        \n",
      " 14  Status               1261 non-null   object        \n",
      " 15  Status_Reason        1028 non-null   object        \n",
      " 16  Inactive_Date        1134 non-null   object        \n",
      " 17  Reporting_emp_1      76 non-null     float64       \n",
      " 18  Reporting_emp_2      1 non-null      float64       \n",
      " 19  Employment_Category  1261 non-null   object        \n",
      " 20  Employment_Type      1261 non-null   object        \n",
      " 21  Religion             1261 non-null   object        \n",
      " 22  Designation          1261 non-null   object        \n",
      "dtypes: datetime64[ns](1), float64(2), int64(4), object(16)\n",
      "memory usage: 226.7+ KB\n",
      "Total employees 1261\n",
      "Earliest join date 1988-01-27 00:00:00\n",
      "Latest join date 2022-12-20 00:00:00\n"
     ]
    }
   ],
   "source": [
    "import matplotlib.pyplot as plt\n",
    "import pandas as pd\n",
    "import seaborn\n",
    "\n",
    "# Read employees dataset\n",
    "df_employee = pd.read_csv('data/employees4.csv', na_values=['\\\\N'], on_bad_lines='skip', infer_datetime_format=True, parse_dates=['Date_Joined', 'Date_Resigned', 'Inactive_Date'])\n",
    "df_employee.info()\n",
    "print(f'Total employees {str(df_employee[\"Employee_Code\"].nunique())}')\n",
    "print(f'Earliest join date {str(df_employee[\"Date_Joined\"].min())}')\n",
    "print(f'Latest join date {str(df_employee[\"Date_Joined\"].max())}')\n"
   ]
  },
  {
   "cell_type": "code",
   "execution_count": 105,
   "outputs": [
    {
     "name": "stdout",
     "output_type": "stream",
     "text": [
      "<class 'pandas.core.series.Series'>\n",
      "Index: 1743 entries, 1001 to Employee_Code\n",
      "Series name: Leave_Date\n",
      "Non-Null Count  Dtype \n",
      "--------------  ----- \n",
      "1743 non-null   object\n",
      "dtypes: object(1)\n",
      "memory usage: 27.2+ KB\n"
     ]
    }
   ],
   "source": [
    "# Read leaves dataset\n",
    "df_leaves = pd.read_csv('data/leaves_clean.csv', names=[\"Employee_Code\", \"Leave_Date\", \"Type\", \"Applied_Date\", \"Lieu_Leave_Date\", \"Remarks\", \"Leave_Category\"])\n",
    "df_leaves_summary = df_leaves.groupby('Employee_Code')['Leave_Date'].count()\n",
    "df_leaves_summary['Employee_Code'] = df_leaves['Employee_Code'].astype('object')\n",
    "df_leaves_summary.head()\n",
    "df_leaves_summary.info()"
   ],
   "metadata": {
    "collapsed": false
   }
  },
  {
   "cell_type": "code",
   "execution_count": 106,
   "outputs": [
    {
     "ename": "ValueError",
     "evalue": "You are trying to merge on int64 and object columns. If you wish to proceed you should use pd.concat",
     "output_type": "error",
     "traceback": [
      "\u001B[0;31m---------------------------------------------------------------------------\u001B[0m",
      "\u001B[0;31mValueError\u001B[0m                                Traceback (most recent call last)",
      "\u001B[0;32m/tmp/ipykernel_89723/3913052300.py\u001B[0m in \u001B[0;36m<module>\u001B[0;34m\u001B[0m\n\u001B[1;32m      1\u001B[0m \u001B[0;31m# Group two datasets\u001B[0m\u001B[0;34m\u001B[0m\u001B[0;34m\u001B[0m\u001B[0m\n\u001B[1;32m      2\u001B[0m \u001B[0;34m\u001B[0m\u001B[0m\n\u001B[0;32m----> 3\u001B[0;31m \u001B[0mdf_joined\u001B[0m \u001B[0;34m=\u001B[0m \u001B[0mpd\u001B[0m\u001B[0;34m.\u001B[0m\u001B[0mmerge\u001B[0m\u001B[0;34m(\u001B[0m\u001B[0mdf_employee\u001B[0m\u001B[0;34m,\u001B[0m \u001B[0mdf_leaves_summary\u001B[0m\u001B[0;34m,\u001B[0m \u001B[0mon\u001B[0m\u001B[0;34m=\u001B[0m\u001B[0;34m'Employee_Code'\u001B[0m  \u001B[0;34m,\u001B[0m \u001B[0mhow\u001B[0m\u001B[0;34m=\u001B[0m\u001B[0;34m'inner'\u001B[0m\u001B[0;34m)\u001B[0m\u001B[0;34m\u001B[0m\u001B[0;34m\u001B[0m\u001B[0m\n\u001B[0m\u001B[1;32m      4\u001B[0m \u001B[0mdf_joined\u001B[0m\u001B[0;34m\u001B[0m\u001B[0;34m\u001B[0m\u001B[0m\n",
      "\u001B[0;32m~/etc/anaconda3/lib/python3.9/site-packages/pandas/core/reshape/merge.py\u001B[0m in \u001B[0;36mmerge\u001B[0;34m(left, right, how, on, left_on, right_on, left_index, right_index, sort, suffixes, copy, indicator, validate)\u001B[0m\n\u001B[1;32m    105\u001B[0m     \u001B[0mvalidate\u001B[0m\u001B[0;34m:\u001B[0m \u001B[0mstr\u001B[0m \u001B[0;34m|\u001B[0m \u001B[0;32mNone\u001B[0m \u001B[0;34m=\u001B[0m \u001B[0;32mNone\u001B[0m\u001B[0;34m,\u001B[0m\u001B[0;34m\u001B[0m\u001B[0;34m\u001B[0m\u001B[0m\n\u001B[1;32m    106\u001B[0m ) -> DataFrame:\n\u001B[0;32m--> 107\u001B[0;31m     op = _MergeOperation(\n\u001B[0m\u001B[1;32m    108\u001B[0m         \u001B[0mleft\u001B[0m\u001B[0;34m,\u001B[0m\u001B[0;34m\u001B[0m\u001B[0;34m\u001B[0m\u001B[0m\n\u001B[1;32m    109\u001B[0m         \u001B[0mright\u001B[0m\u001B[0;34m,\u001B[0m\u001B[0;34m\u001B[0m\u001B[0;34m\u001B[0m\u001B[0m\n",
      "\u001B[0;32m~/etc/anaconda3/lib/python3.9/site-packages/pandas/core/reshape/merge.py\u001B[0m in \u001B[0;36m__init__\u001B[0;34m(self, left, right, how, on, left_on, right_on, axis, left_index, right_index, sort, suffixes, copy, indicator, validate)\u001B[0m\n\u001B[1;32m    702\u001B[0m         \u001B[0;31m# validate the merge keys dtypes. We may need to coerce\u001B[0m\u001B[0;34m\u001B[0m\u001B[0;34m\u001B[0m\u001B[0m\n\u001B[1;32m    703\u001B[0m         \u001B[0;31m# to avoid incompatible dtypes\u001B[0m\u001B[0;34m\u001B[0m\u001B[0;34m\u001B[0m\u001B[0m\n\u001B[0;32m--> 704\u001B[0;31m         \u001B[0mself\u001B[0m\u001B[0;34m.\u001B[0m\u001B[0m_maybe_coerce_merge_keys\u001B[0m\u001B[0;34m(\u001B[0m\u001B[0;34m)\u001B[0m\u001B[0;34m\u001B[0m\u001B[0;34m\u001B[0m\u001B[0m\n\u001B[0m\u001B[1;32m    705\u001B[0m \u001B[0;34m\u001B[0m\u001B[0m\n\u001B[1;32m    706\u001B[0m         \u001B[0;31m# If argument passed to validate,\u001B[0m\u001B[0;34m\u001B[0m\u001B[0;34m\u001B[0m\u001B[0m\n",
      "\u001B[0;32m~/etc/anaconda3/lib/python3.9/site-packages/pandas/core/reshape/merge.py\u001B[0m in \u001B[0;36m_maybe_coerce_merge_keys\u001B[0;34m(self)\u001B[0m\n\u001B[1;32m   1259\u001B[0m                     \u001B[0minferred_right\u001B[0m \u001B[0;32min\u001B[0m \u001B[0mstring_types\u001B[0m \u001B[0;32mand\u001B[0m \u001B[0minferred_left\u001B[0m \u001B[0;32mnot\u001B[0m \u001B[0;32min\u001B[0m \u001B[0mstring_types\u001B[0m\u001B[0;34m\u001B[0m\u001B[0;34m\u001B[0m\u001B[0m\n\u001B[1;32m   1260\u001B[0m                 ):\n\u001B[0;32m-> 1261\u001B[0;31m                     \u001B[0;32mraise\u001B[0m \u001B[0mValueError\u001B[0m\u001B[0;34m(\u001B[0m\u001B[0mmsg\u001B[0m\u001B[0;34m)\u001B[0m\u001B[0;34m\u001B[0m\u001B[0;34m\u001B[0m\u001B[0m\n\u001B[0m\u001B[1;32m   1262\u001B[0m \u001B[0;34m\u001B[0m\u001B[0m\n\u001B[1;32m   1263\u001B[0m             \u001B[0;31m# datetimelikes must match exactly\u001B[0m\u001B[0;34m\u001B[0m\u001B[0;34m\u001B[0m\u001B[0m\n",
      "\u001B[0;31mValueError\u001B[0m: You are trying to merge on int64 and object columns. If you wish to proceed you should use pd.concat"
     ]
    }
   ],
   "source": [
    "# Group two datasets\n",
    "\n",
    "df_joined = pd.merge(df_employee, df_leaves_summary, on='Employee_Code'  , how='inner')\n",
    "df_joined"
   ],
   "metadata": {
    "collapsed": false
   }
  },
  {
   "cell_type": "code",
   "execution_count": null,
   "outputs": [],
   "source": [
    "temp_plot = df_employee['Employment_Type'].value_counts().plot(kind='bar')\n",
    "temp_plot.bar_label(temp_plot.containers[0], labels=df_employee['Employment_Type'].value_counts())\n",
    "plt.show()\n",
    "\n",
    "plt.pie(df_employee['Status'].value_counts(), labels=df_employee['Status'].unique(), autopct='%1.1f%%')\n",
    "plt.legend()\n",
    "plt.show()\n",
    "\n",
    "seaborn.pairplot(df_employee)\n",
    "#temp_plot = df['Designation'].value_counts().plot(kind='pie')\n",
    "#plt.legend()\n",
    "#plt.show()"
   ],
   "metadata": {
    "collapsed": false
   }
  },
  {
   "cell_type": "code",
   "execution_count": null,
   "outputs": [],
   "source": [],
   "metadata": {
    "collapsed": false
   }
  },
  {
   "cell_type": "code",
   "execution_count": null,
   "outputs": [],
   "source": [
    "df_employee_inactive_contract_based = df_employee.loc[(df_employee['Status'] == 'Inactive') & (df_employee['Employment_Type'] == 'Contarct Basis')]\n",
    "df_employee_inactive_contract_based['Date_Joined'] = pd.to_datetime(df_employee_inactive_contract_based['Date_Joined'])\n",
    "df_employee_inactive_contract_based['Date_Resigned'] = pd.to_datetime(df_employee_inactive_contract_based['Date_Resigned'], errors='coerce')\n",
    "df_employee_inactive_contract_based['Employment_Duration'] = df_employee_inactive_contract_based['Date_Resigned'] - df_employee_inactive_contract_based['Date_Joined']\n",
    "df_employee_inactive_contract_based['Employment_Duration'].describe()"
   ],
   "metadata": {
    "collapsed": false
   }
  },
  {
   "cell_type": "code",
   "execution_count": null,
   "outputs": [],
   "source": [
    "df_employee_inactive_permanent = df_employee.loc[(df_employee['Status'] == 'Inactive') & (df_employee['Employment_Type'] == 'Permanant')]\n",
    "df_employee_inactive_permanent['Date_Joined'] = pd.to_datetime(df_employee_inactive_permanent['Date_Joined'])\n",
    "df_employee_inactive_permanent['Date_Resigned'] = pd.to_datetime(df_employee_inactive_permanent['Date_Resigned'], errors='coerce')\n",
    "df_employee_inactive_permanent['Employment_Duration'] = df_employee_inactive_permanent['Date_Resigned'] - df_employee_inactive_permanent['Date_Joined']\n",
    "df_employee_inactive_permanent['Employment_Duration'].describe()"
   ],
   "metadata": {
    "collapsed": false
   }
  },
  {
   "cell_type": "code",
   "execution_count": null,
   "outputs": [],
   "source": [
    "df_employee_inactive = df_employee.loc[(df_employee['Status'] == 'Inactive')]\n",
    "df_employee_inactive['Date_Joined'] = pd.to_datetime(df_employee_inactive['Date_Joined'])\n",
    "df_employee_inactive['Date_Resigned'] = pd.to_datetime(df_employee_inactive['Date_Resigned'], errors='coerce')\n",
    "df_employee_inactive['Employment_Duration'] = df_employee_inactive['Date_Resigned'] - df_employee_inactive['Date_Joined']\n",
    "df_employee_inactive['Employment_Duration'].describe()"
   ],
   "metadata": {
    "collapsed": false
   }
  },
  {
   "cell_type": "code",
   "execution_count": null,
   "outputs": [],
   "source": [
    "from datetime import datetime\n",
    "df__employee_active_contract_basis = df_employee.loc[(df_employee['Status'] == 'Active') & (df_employee['Employment_Type'] == 'Contarct Basis')]\n",
    "df__employee_active_contract_basis['Date_Joined'] = pd.to_datetime(df__employee_active_contract_basis['Date_Joined'])\n",
    "today_timestamp = pd.Timestamp(datetime.today().date())\n",
    "df__employee_active_contract_basis['Employment_Duration'] = today_timestamp - df__employee_active_contract_basis['Date_Joined']\n",
    "df__employee_active_contract_basis['Employment_Duration'].describe()"
   ],
   "metadata": {
    "collapsed": false
   }
  },
  {
   "cell_type": "code",
   "execution_count": null,
   "outputs": [],
   "source": [],
   "metadata": {
    "collapsed": false
   }
  },
  {
   "cell_type": "code",
   "execution_count": null,
   "outputs": [],
   "source": [],
   "metadata": {
    "collapsed": false
   }
  },
  {
   "cell_type": "code",
   "execution_count": null,
   "outputs": [],
   "source": [],
   "metadata": {
    "collapsed": false
   }
  }
 ],
 "metadata": {
  "kernelspec": {
   "display_name": "Python 3 (ipykernel)",
   "language": "python",
   "name": "python3"
  },
  "language_info": {
   "codemirror_mode": {
    "name": "ipython",
    "version": 3
   },
   "file_extension": ".py",
   "mimetype": "text/x-python",
   "name": "python",
   "nbconvert_exporter": "python",
   "pygments_lexer": "ipython3",
   "version": "3.9.13"
  }
 },
 "nbformat": 4,
 "nbformat_minor": 5
}
