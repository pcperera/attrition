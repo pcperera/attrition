{
 "cells": [
  {
   "cell_type": "code",
   "execution_count": 1,
   "outputs": [
    {
     "name": "stdout",
     "output_type": "stream",
     "text": [
      "<class 'pandas.core.frame.DataFrame'>\n",
      "RangeIndex: 262907 entries, 0 to 262906\n",
      "Data columns (total 10 columns):\n",
      " #   Column        Non-Null Count   Dtype  \n",
      "---  ------        --------------   -----  \n",
      " 0   id            262907 non-null  int64  \n",
      " 1   project_code  262907 non-null  float64\n",
      " 2   date          262907 non-null  object \n",
      " 3   out_date      262907 non-null  object \n",
      " 4   employee_no   262907 non-null  int64  \n",
      " 5   in_time       262907 non-null  object \n",
      " 6   out_time      262907 non-null  object \n",
      " 7   Hourly_Time   262907 non-null  object \n",
      " 8   Shift_Start   262907 non-null  object \n",
      " 9   Shift_End     262907 non-null  object \n",
      "dtypes: float64(1), int64(2), object(7)\n",
      "memory usage: 20.1+ MB\n"
     ]
    },
    {
     "name": "stderr",
     "output_type": "stream",
     "text": [
      "/tmp/ipykernel_14626/1204663815.py:5: DtypeWarning: Columns (7) have mixed types. Specify dtype option on import or set low_memory=False.\n",
      "  df = pd.read_csv('data/attendance.csv')\n"
     ]
    }
   ],
   "source": [
    "import matplotlib.pyplot as plt\n",
    "import pandas as pd\n",
    "import seaborn\n",
    "\n",
    "df_attendance = pd.read_csv('data/attendance.csv')\n",
    "df_attendance.info()"
   ],
   "metadata": {
    "collapsed": false
   }
  },
  {
   "cell_type": "code",
   "execution_count": 2,
   "outputs": [
    {
     "data": {
      "text/plain": "                579             0             3\ncount  75935.000000  75935.000000  75935.000000\nmean    1598.713255      0.088181      3.092882\nstd      655.363774      0.283559      0.578678\nmin      347.000000      0.000000      1.000000\n25%     1039.000000      0.000000      3.000000\n50%     1685.000000      0.000000      3.000000\n75%     2104.000000      0.000000      3.000000\nmax     3045.000000      1.000000     11.000000",
      "text/html": "<div>\n<style scoped>\n    .dataframe tbody tr th:only-of-type {\n        vertical-align: middle;\n    }\n\n    .dataframe tbody tr th {\n        vertical-align: top;\n    }\n\n    .dataframe thead th {\n        text-align: right;\n    }\n</style>\n<table border=\"1\" class=\"dataframe\">\n  <thead>\n    <tr style=\"text-align: right;\">\n      <th></th>\n      <th>579</th>\n      <th>0</th>\n      <th>3</th>\n    </tr>\n  </thead>\n  <tbody>\n    <tr>\n      <th>count</th>\n      <td>75935.000000</td>\n      <td>75935.000000</td>\n      <td>75935.000000</td>\n    </tr>\n    <tr>\n      <th>mean</th>\n      <td>1598.713255</td>\n      <td>0.088181</td>\n      <td>3.092882</td>\n    </tr>\n    <tr>\n      <th>std</th>\n      <td>655.363774</td>\n      <td>0.283559</td>\n      <td>0.578678</td>\n    </tr>\n    <tr>\n      <th>min</th>\n      <td>347.000000</td>\n      <td>0.000000</td>\n      <td>1.000000</td>\n    </tr>\n    <tr>\n      <th>25%</th>\n      <td>1039.000000</td>\n      <td>0.000000</td>\n      <td>3.000000</td>\n    </tr>\n    <tr>\n      <th>50%</th>\n      <td>1685.000000</td>\n      <td>0.000000</td>\n      <td>3.000000</td>\n    </tr>\n    <tr>\n      <th>75%</th>\n      <td>2104.000000</td>\n      <td>0.000000</td>\n      <td>3.000000</td>\n    </tr>\n    <tr>\n      <th>max</th>\n      <td>3045.000000</td>\n      <td>1.000000</td>\n      <td>11.000000</td>\n    </tr>\n  </tbody>\n</table>\n</div>"
     },
     "execution_count": 2,
     "metadata": {},
     "output_type": "execute_result"
    }
   ],
   "source": [
    "df.describe()"
   ],
   "metadata": {
    "collapsed": false
   }
  },
  {
   "cell_type": "code",
   "execution_count": null,
   "outputs": [],
   "source": [],
   "metadata": {
    "collapsed": false
   }
  }
 ],
 "metadata": {
  "kernelspec": {
   "display_name": "Python 3 (ipykernel)",
   "language": "python",
   "name": "python3"
  },
  "language_info": {
   "codemirror_mode": {
    "name": "ipython",
    "version": 3
   },
   "file_extension": ".py",
   "mimetype": "text/x-python",
   "name": "python",
   "nbconvert_exporter": "python",
   "pygments_lexer": "ipython3",
   "version": "3.9.13"
  }
 },
 "nbformat": 4,
 "nbformat_minor": 5
}
