{
 "cells": [
  {
   "cell_type": "code",
   "execution_count": 103,
   "outputs": [
    {
     "name": "stdout",
     "output_type": "stream",
     "text": [
      "<class 'pandas.core.frame.DataFrame'>\n",
      "RangeIndex: 262907 entries, 0 to 262906\n",
      "Data columns (total 10 columns):\n",
      " #   Column         Non-Null Count   Dtype         \n",
      "---  ------         --------------   -----         \n",
      " 0   id             262907 non-null  int64         \n",
      " 1   project_code   262907 non-null  float64       \n",
      " 2   in_date        262907 non-null  datetime64[ns]\n",
      " 3   out_date       262907 non-null  object        \n",
      " 4   Employee_Code  262907 non-null  int64         \n",
      " 5   in_time        262907 non-null  object        \n",
      " 6   out_time       262907 non-null  object        \n",
      " 7   Hourly_Time    262907 non-null  object        \n",
      " 8   Shift_Start    262907 non-null  object        \n",
      " 9   Shift_End      262907 non-null  object        \n",
      "dtypes: datetime64[ns](1), float64(1), int64(2), object(6)\n",
      "memory usage: 20.1+ MB\n"
     ]
    },
    {
     "name": "stderr",
     "output_type": "stream",
     "text": [
      "/tmp/ipykernel_81196/961640916.py:5: DtypeWarning: Columns (7) have mixed types. Specify dtype option on import or set low_memory=False.\n",
      "  df_attendance = pd.read_csv('data/attendance.csv', parse_dates=['date', 'out_date'])\n"
     ]
    }
   ],
   "source": [
    "import matplotlib.pyplot as plt\n",
    "import pandas as pd\n",
    "import seaborn\n",
    "\n",
    "df_attendance = pd.read_csv('data/attendance.csv', parse_dates=['date', 'out_date'])\n",
    "df_attendance = df_attendance.rename(columns={'employee_no': 'Employee_Code',\n",
    "                                                'date': 'in_date'})\n",
    "df_attendance.info()"
   ],
   "metadata": {
    "collapsed": false
   }
  },
  {
   "cell_type": "code",
   "execution_count": 104,
   "outputs": [
    {
     "data": {
      "text/plain": "                 id   project_code  Employee_Code\ncount  2.629070e+05  262907.000000  262907.000000\nmean   1.642824e+06     177.960971    1444.199816\nstd    1.824696e+06     343.970578     733.964498\nmin    8.300000e+02       1.000000     347.000000\n25%    5.221395e+05     179.200000     766.000000\n50%    8.147770e+05     194.100000    1408.000000\n75%    1.828590e+06     198.100000    2053.000000\nmax    7.233816e+06  123456.000000    3090.000000",
      "text/html": "<div>\n<style scoped>\n    .dataframe tbody tr th:only-of-type {\n        vertical-align: middle;\n    }\n\n    .dataframe tbody tr th {\n        vertical-align: top;\n    }\n\n    .dataframe thead th {\n        text-align: right;\n    }\n</style>\n<table border=\"1\" class=\"dataframe\">\n  <thead>\n    <tr style=\"text-align: right;\">\n      <th></th>\n      <th>id</th>\n      <th>project_code</th>\n      <th>Employee_Code</th>\n    </tr>\n  </thead>\n  <tbody>\n    <tr>\n      <th>count</th>\n      <td>2.629070e+05</td>\n      <td>262907.000000</td>\n      <td>262907.000000</td>\n    </tr>\n    <tr>\n      <th>mean</th>\n      <td>1.642824e+06</td>\n      <td>177.960971</td>\n      <td>1444.199816</td>\n    </tr>\n    <tr>\n      <th>std</th>\n      <td>1.824696e+06</td>\n      <td>343.970578</td>\n      <td>733.964498</td>\n    </tr>\n    <tr>\n      <th>min</th>\n      <td>8.300000e+02</td>\n      <td>1.000000</td>\n      <td>347.000000</td>\n    </tr>\n    <tr>\n      <th>25%</th>\n      <td>5.221395e+05</td>\n      <td>179.200000</td>\n      <td>766.000000</td>\n    </tr>\n    <tr>\n      <th>50%</th>\n      <td>8.147770e+05</td>\n      <td>194.100000</td>\n      <td>1408.000000</td>\n    </tr>\n    <tr>\n      <th>75%</th>\n      <td>1.828590e+06</td>\n      <td>198.100000</td>\n      <td>2053.000000</td>\n    </tr>\n    <tr>\n      <th>max</th>\n      <td>7.233816e+06</td>\n      <td>123456.000000</td>\n      <td>3090.000000</td>\n    </tr>\n  </tbody>\n</table>\n</div>"
     },
     "execution_count": 104,
     "metadata": {},
     "output_type": "execute_result"
    }
   ],
   "source": [
    "df_attendance.describe()"
   ],
   "metadata": {
    "collapsed": false
   }
  },
  {
   "cell_type": "code",
   "execution_count": 105,
   "outputs": [
    {
     "name": "stderr",
     "output_type": "stream",
     "text": [
      "/tmp/ipykernel_81196/3274697379.py:4: FutureWarning: Treating datetime data as categorical rather than numeric in `.describe` is deprecated and will be removed in a future version of pandas. Specify `datetime_is_numeric=True` to silence this warning and adopt the future behavior now.\n",
      "  df_attendance_clean['in_date'].describe()\n"
     ]
    },
    {
     "data": {
      "text/plain": "count                  262847\nunique                   1008\ntop       2022-01-11 00:00:00\nfreq                      570\nfirst     2020-02-01 00:00:00\nlast      2103-08-19 00:00:00\nName: in_date, dtype: object"
     },
     "execution_count": 105,
     "metadata": {},
     "output_type": "execute_result"
    }
   ],
   "source": [
    "start_time = pd.to_datetime('2020-02-01 00:00:00')\n",
    "date_range = (df_attendance['in_date'] >= start_time)\n",
    "df_attendance_clean = df_attendance.loc[date_range]\n",
    "df_attendance_clean['in_date'].describe()"
   ],
   "metadata": {
    "collapsed": false
   }
  }
 ],
 "metadata": {
  "kernelspec": {
   "display_name": "Python 3 (ipykernel)",
   "language": "python",
   "name": "python3"
  },
  "language_info": {
   "codemirror_mode": {
    "name": "ipython",
    "version": 3
   },
   "file_extension": ".py",
   "mimetype": "text/x-python",
   "name": "python",
   "nbconvert_exporter": "python",
   "pygments_lexer": "ipython3",
   "version": "3.9.13"
  }
 },
 "nbformat": 4,
 "nbformat_minor": 5
}
