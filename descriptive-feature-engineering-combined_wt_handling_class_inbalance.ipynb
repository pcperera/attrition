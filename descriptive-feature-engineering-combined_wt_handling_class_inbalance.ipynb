{
 "cells": [
  {
   "cell_type": "markdown",
   "id": "61e88c3b",
   "metadata": {},
   "source": [
    "#### Loading data sources"
   ]
  },
  {
   "cell_type": "code",
   "execution_count": 2,
   "id": "c115d967",
   "metadata": {},
   "outputs": [
    {
     "name": "stdout",
     "output_type": "stream",
     "text": [
      "Collecting imblearn\n",
      "  Using cached imblearn-0.0-py2.py3-none-any.whl (1.9 kB)\n",
      "Collecting imbalanced-learn\n",
      "  Using cached imbalanced_learn-0.10.1-py3-none-any.whl (226 kB)\n",
      "Requirement already satisfied: scikit-learn>=1.0.2 in c:\\users\\amalipe\\anaconda3\\lib\\site-packages (from imbalanced-learn->imblearn) (1.2.1)\n",
      "Requirement already satisfied: threadpoolctl>=2.0.0 in c:\\users\\amalipe\\anaconda3\\lib\\site-packages (from imbalanced-learn->imblearn) (2.2.0)\n",
      "Requirement already satisfied: numpy>=1.17.3 in c:\\users\\amalipe\\anaconda3\\lib\\site-packages (from imbalanced-learn->imblearn) (1.20.3)\n",
      "Requirement already satisfied: joblib>=1.1.1 in c:\\users\\amalipe\\anaconda3\\lib\\site-packages (from imbalanced-learn->imblearn) (1.2.0)\n",
      "Requirement already satisfied: scipy>=1.3.2 in c:\\users\\amalipe\\anaconda3\\lib\\site-packages (from imbalanced-learn->imblearn) (1.7.1)\n",
      "Installing collected packages: imbalanced-learn, imblearn\n",
      "Successfully installed imbalanced-learn-0.10.1 imblearn-0.0\n",
      "Note: you may need to restart the kernel to use updated packages.\n"
     ]
    }
   ],
   "source": [
    "#pip install imblearn"
   ]
  },
  {
   "cell_type": "code",
   "execution_count": 1,
   "id": "7eb156bc",
   "metadata": {
    "scrolled": false
   },
   "outputs": [],
   "source": [
    "# This Jupyter Notebook does feature engineering joining all features in all tables.\n",
    "\n",
    "import matplotlib.pyplot as plt\n",
    "import pandas as pd\n",
    "import seaborn\n",
    "from sklearn.linear_model import LogisticRegression\n",
    "from sklearn.model_selection import train_test_split\n",
    "from sklearn.metrics import accuracy_score, precision_score, recall_score, f1_score, r2_score\n",
    "from datetime import datetime\n",
    "from imblearn.over_sampling import SMOTE\n",
    "import seaborn as sns\n",
    "import numpy as np\n",
    "from sklearn.metrics import confusion_matrix, accuracy_score,classification_report,roc_curve,roc_auc_score"
   ]
  },
  {
   "cell_type": "markdown",
   "id": "bbd93ab9",
   "metadata": {},
   "source": [
    "#### Parameters"
   ]
  },
  {
   "cell_type": "code",
   "execution_count": 2,
   "id": "64e6388a",
   "metadata": {},
   "outputs": [],
   "source": [
    "# We start analysis for the below period where attendance system is properly implemented at the given organization.\n",
    "analysis_period_start_time = pd.to_datetime('2020-02-01 00:00:00')\n",
    "analysis_period_end_time = pd.to_datetime('2022-12-31 23:59:59')"
   ]
  },
  {
   "cell_type": "markdown",
   "id": "252c1432",
   "metadata": {},
   "source": [
    "#### Load the dataset"
   ]
  },
  {
   "cell_type": "code",
   "execution_count": 3,
   "id": "357655d2",
   "metadata": {},
   "outputs": [],
   "source": [
    "# Read employees dataset\n",
    "# df_employee_raw = pd.read_csv('data/employees4.csv', na_values=['\\\\N'], on_bad_lines='skip', infer_datetime_format=True, parse_dates=['Date_Joined', 'Date_Resigned', 'Inactive_Date'])\n",
    "df_employee_raw = pd.read_csv('C://Users//amalipe//OneDrive - John Keells Holdings PLC//MSc//Semester 01//CS5803 - Data mining//project//attrition//data//employees4.csv', na_values=['\\\\N'], on_bad_lines='skip', infer_datetime_format=True, parse_dates=['Date_Joined', 'Date_Resigned', 'Inactive_Date'])\n",
    "df_leaves = pd.read_csv('C://Users//amalipe//OneDrive - John Keells Holdings PLC//MSc//Semester 01//CS5803 - Data mining//project//attrition//data//leaves_clean.csv')"
   ]
  },
  {
   "cell_type": "markdown",
   "id": "6706a8e3",
   "metadata": {},
   "source": [
    "##### Preprocess df_employee table"
   ]
  },
  {
   "cell_type": "code",
   "execution_count": 4,
   "id": "d1fc73d9",
   "metadata": {},
   "outputs": [
    {
     "data": {
      "text/html": [
       "<div>\n",
       "<style scoped>\n",
       "    .dataframe tbody tr th:only-of-type {\n",
       "        vertical-align: middle;\n",
       "    }\n",
       "\n",
       "    .dataframe tbody tr th {\n",
       "        vertical-align: top;\n",
       "    }\n",
       "\n",
       "    .dataframe thead th {\n",
       "        text-align: right;\n",
       "    }\n",
       "</style>\n",
       "<table border=\"1\" class=\"dataframe\">\n",
       "  <thead>\n",
       "    <tr style=\"text-align: right;\">\n",
       "      <th></th>\n",
       "      <th>Employee_No</th>\n",
       "      <th>Date_of_Birth</th>\n",
       "      <th>Gender</th>\n",
       "      <th>Marital_Status</th>\n",
       "      <th>Date_Joined</th>\n",
       "      <th>Date_Resigned</th>\n",
       "      <th>Status</th>\n",
       "      <th>Status_Reason</th>\n",
       "      <th>Inactive_Date</th>\n",
       "      <th>Employment_Category</th>\n",
       "      <th>Employment_Type</th>\n",
       "      <th>Designation</th>\n",
       "    </tr>\n",
       "  </thead>\n",
       "  <tbody>\n",
       "    <tr>\n",
       "      <th>58</th>\n",
       "      <td>426</td>\n",
       "      <td>1962-05-10</td>\n",
       "      <td>Male</td>\n",
       "      <td>Married</td>\n",
       "      <td>2020-07-03</td>\n",
       "      <td>2021-10-26</td>\n",
       "      <td>Inactive</td>\n",
       "      <td>RESIGN</td>\n",
       "      <td>2021-10-26</td>\n",
       "      <td>Staff</td>\n",
       "      <td>Contarct Basis</td>\n",
       "      <td>Sociologist</td>\n",
       "    </tr>\n",
       "    <tr>\n",
       "      <th>73</th>\n",
       "      <td>450</td>\n",
       "      <td>1976-05-27</td>\n",
       "      <td>Male</td>\n",
       "      <td>Married</td>\n",
       "      <td>2020-12-03</td>\n",
       "      <td>2021-04-09</td>\n",
       "      <td>Inactive</td>\n",
       "      <td>RESIGN</td>\n",
       "      <td>2021-04-09</td>\n",
       "      <td>Labour</td>\n",
       "      <td>Contarct Basis</td>\n",
       "      <td>Unskilled Labor</td>\n",
       "    </tr>\n",
       "    <tr>\n",
       "      <th>78</th>\n",
       "      <td>457</td>\n",
       "      <td>1967-03-20</td>\n",
       "      <td>Male</td>\n",
       "      <td>Married</td>\n",
       "      <td>2020-06-01</td>\n",
       "      <td>NaN</td>\n",
       "      <td>Inactive</td>\n",
       "      <td>Resign</td>\n",
       "      <td>2020-09-25</td>\n",
       "      <td>Labour</td>\n",
       "      <td>Contarct Basis</td>\n",
       "      <td>Unskilled Labor</td>\n",
       "    </tr>\n",
       "    <tr>\n",
       "      <th>79</th>\n",
       "      <td>460</td>\n",
       "      <td>1955-03-10</td>\n",
       "      <td>Male</td>\n",
       "      <td>Married</td>\n",
       "      <td>2020-03-01</td>\n",
       "      <td>0000-00-00</td>\n",
       "      <td>Inactive</td>\n",
       "      <td>Resign</td>\n",
       "      <td>2020-03-31</td>\n",
       "      <td>Labour</td>\n",
       "      <td>Contarct Basis</td>\n",
       "      <td>Semi Skilled Labor</td>\n",
       "    </tr>\n",
       "  </tbody>\n",
       "</table>\n",
       "</div>"
      ],
      "text/plain": [
       "    Employee_No Date_of_Birth Gender Marital_Status Date_Joined Date_Resigned  \\\n",
       "58          426    1962-05-10   Male        Married  2020-07-03    2021-10-26   \n",
       "73          450    1976-05-27   Male        Married  2020-12-03    2021-04-09   \n",
       "78          457    1967-03-20   Male        Married  2020-06-01           NaN   \n",
       "79          460    1955-03-10   Male        Married  2020-03-01    0000-00-00   \n",
       "\n",
       "      Status Status_Reason Inactive_Date Employment_Category Employment_Type  \\\n",
       "58  Inactive        RESIGN    2021-10-26               Staff  Contarct Basis   \n",
       "73  Inactive        RESIGN    2021-04-09              Labour  Contarct Basis   \n",
       "78  Inactive        Resign    2020-09-25              Labour  Contarct Basis   \n",
       "79  Inactive        Resign    2020-03-31              Labour  Contarct Basis   \n",
       "\n",
       "           Designation  \n",
       "58         Sociologist  \n",
       "73     Unskilled Labor  \n",
       "78     Unskilled Labor  \n",
       "79  Semi Skilled Labor  "
      ]
     },
     "execution_count": 4,
     "metadata": {},
     "output_type": "execute_result"
    }
   ],
   "source": [
    "# Clean employee table\n",
    "# Drop Employee_Code because it's not referenced in other tables.\n",
    "# Other fields are dropped\n",
    "df_employee = df_employee_raw.drop(['Employee_Code', 'Name', 'Address_Line_1', 'Address_Line_2', 'Address_Line_3',\n",
    "                                    'Reporting_emp_1', 'Reporting_emp_2', 'Title', 'Religion', 'Religion_ID', 'Designation_ID'], axis=1)\n",
    "\n",
    "date_range = (df_employee['Date_Joined'] >= analysis_period_start_time) & (df_employee['Date_Joined'] <= analysis_period_end_time)\n",
    "df_employee = df_employee.loc[date_range]\n",
    "df_employee.head(4)"
   ]
  },
  {
   "cell_type": "code",
   "execution_count": 5,
   "id": "1018405b",
   "metadata": {},
   "outputs": [
    {
     "name": "stdout",
     "output_type": "stream",
     "text": [
      "<class 'pandas.core.frame.DataFrame'>\n",
      "RangeIndex: 1261 entries, 0 to 1260\n",
      "Data columns (total 23 columns):\n",
      " #   Column               Non-Null Count  Dtype         \n",
      "---  ------               --------------  -----         \n",
      " 0   Employee_No          1261 non-null   int64         \n",
      " 1   Employee_Code        1261 non-null   int64         \n",
      " 2   Name                 1261 non-null   object        \n",
      " 3   Title                1261 non-null   object        \n",
      " 4   Address_Line_1       1261 non-null   object        \n",
      " 5   Address_Line_2       1181 non-null   object        \n",
      " 6   Address_Line_3       952 non-null    object        \n",
      " 7   Date_of_Birth        1261 non-null   object        \n",
      " 8   Gender               1261 non-null   object        \n",
      " 9   Religion_ID          1261 non-null   int64         \n",
      " 10  Marital_Status       1170 non-null   object        \n",
      " 11  Designation_ID       1261 non-null   int64         \n",
      " 12  Date_Joined          1261 non-null   datetime64[ns]\n",
      " 13  Date_Resigned        955 non-null    object        \n",
      " 14  Status               1261 non-null   object        \n",
      " 15  Status_Reason        1028 non-null   object        \n",
      " 16  Inactive_Date        1134 non-null   object        \n",
      " 17  Reporting_emp_1      76 non-null     float64       \n",
      " 18  Reporting_emp_2      1 non-null      float64       \n",
      " 19  Employment_Category  1261 non-null   object        \n",
      " 20  Employment_Type      1261 non-null   object        \n",
      " 21  Religion             1261 non-null   object        \n",
      " 22  Designation          1261 non-null   object        \n",
      "dtypes: datetime64[ns](1), float64(2), int64(4), object(16)\n",
      "memory usage: 226.7+ KB\n",
      "Total employees 1261\n",
      "Earliest join date 1988-01-27 00:00:00\n",
      "Latest join date 2022-12-20 00:00:00\n"
     ]
    }
   ],
   "source": [
    "df_employee_raw.info()\n",
    "\n",
    "print(f'Total employees {str(df_employee_raw[\"Employee_Code\"].nunique())}')\n",
    "print(f'Earliest join date {str(df_employee_raw[\"Date_Joined\"].min())}')\n",
    "print(f'Latest join date {str(df_employee_raw[\"Date_Joined\"].max())}')"
   ]
  },
  {
   "cell_type": "markdown",
   "id": "1d31d460",
   "metadata": {},
   "source": [
    "##### Preprocess df_leaves table"
   ]
  },
  {
   "cell_type": "code",
   "execution_count": 6,
   "id": "f914804a",
   "metadata": {},
   "outputs": [
    {
     "data": {
      "text/html": [
       "<div>\n",
       "<style scoped>\n",
       "    .dataframe tbody tr th:only-of-type {\n",
       "        vertical-align: middle;\n",
       "    }\n",
       "\n",
       "    .dataframe tbody tr th {\n",
       "        vertical-align: top;\n",
       "    }\n",
       "\n",
       "    .dataframe thead th {\n",
       "        text-align: right;\n",
       "    }\n",
       "</style>\n",
       "<table border=\"1\" class=\"dataframe\">\n",
       "  <thead>\n",
       "    <tr style=\"text-align: right;\">\n",
       "      <th></th>\n",
       "      <th>Employee_No</th>\n",
       "      <th>Leave_Count</th>\n",
       "    </tr>\n",
       "  </thead>\n",
       "  <tbody>\n",
       "    <tr>\n",
       "      <th>0</th>\n",
       "      <td>347</td>\n",
       "      <td>52.5</td>\n",
       "    </tr>\n",
       "    <tr>\n",
       "      <th>1</th>\n",
       "      <td>348</td>\n",
       "      <td>21.5</td>\n",
       "    </tr>\n",
       "    <tr>\n",
       "      <th>2</th>\n",
       "      <td>351</td>\n",
       "      <td>57.0</td>\n",
       "    </tr>\n",
       "    <tr>\n",
       "      <th>3</th>\n",
       "      <td>352</td>\n",
       "      <td>105.5</td>\n",
       "    </tr>\n",
       "    <tr>\n",
       "      <th>4</th>\n",
       "      <td>354</td>\n",
       "      <td>79.5</td>\n",
       "    </tr>\n",
       "  </tbody>\n",
       "</table>\n",
       "</div>"
      ],
      "text/plain": [
       "   Employee_No  Leave_Count\n",
       "0          347         52.5\n",
       "1          348         21.5\n",
       "2          351         57.0\n",
       "3          352        105.5\n",
       "4          354         79.5"
      ]
     },
     "execution_count": 6,
     "metadata": {},
     "output_type": "execute_result"
    }
   ],
   "source": [
    "df_leaves = df_leaves.rename(columns={'leave_date': 'Leave_Date',\n",
    "                                      'Type': 'Leave_Factor',\n",
    "                                      'Applied Date': 'Applied_Date',\n",
    "                                      'leave_leave_date': 'Lieu_Leave_Date',\n",
    "                                      'Remarks': 'Remarks',\n",
    "                                      'apply_type': 'Leave_Category'})\n",
    "df_leaves_type_map = {'Half Day': 0.5, 'Full Day': 1}\n",
    "df_leaves['Leave_Factor'] = df_leaves['Leave_Factor'].map(df_leaves_type_map)\n",
    "df_leaves_legit = pd.DataFrame(df_leaves.loc[(df_leaves['Leave_Category'] != 'Liue Leave') & (df_leaves['Leave_Category'] != 'Curfew') & (df_leaves['Leave_Category'] != 'Sat Holiday')])\n",
    "df_leaves_summary_temp = df_leaves.groupby('Employee_No')['Leave_Factor'].sum()\n",
    "df_leaves_summary = pd.DataFrame({'Employee_No': df_leaves_summary_temp.index, 'Leave_Count':  df_leaves_summary_temp.values})\n",
    "df_leaves_summary.head()"
   ]
  },
  {
   "cell_type": "markdown",
   "id": "043af85a",
   "metadata": {},
   "source": [
    "#### Data processing"
   ]
  },
  {
   "cell_type": "code",
   "execution_count": 7,
   "id": "abf0bb9a",
   "metadata": {},
   "outputs": [
    {
     "name": "stderr",
     "output_type": "stream",
     "text": [
      "C:\\Users\\amalipe\\AppData\\Local\\Temp/ipykernel_9648/2458401512.py:1: FutureWarning: Treating datetime data as categorical rather than numeric in `.describe` is deprecated and will be removed in a future version of pandas. Specify `datetime_is_numeric=True` to silence this warning and adopt the future behavior now.\n",
      "  df_employee['Date_Joined'].describe()\n"
     ]
    },
    {
     "data": {
      "text/plain": [
       "count                     796\n",
       "unique                    369\n",
       "top       2021-02-01 00:00:00\n",
       "freq                       23\n",
       "first     2020-02-01 00:00:00\n",
       "last      2022-12-20 00:00:00\n",
       "Name: Date_Joined, dtype: object"
      ]
     },
     "execution_count": 7,
     "metadata": {},
     "output_type": "execute_result"
    }
   ],
   "source": [
    "df_employee['Date_Joined'].describe()"
   ]
  },
  {
   "cell_type": "markdown",
   "id": "50a9d8ce",
   "metadata": {},
   "source": [
    "##### Combining datasets"
   ]
  },
  {
   "cell_type": "code",
   "execution_count": 8,
   "id": "81ce123c",
   "metadata": {},
   "outputs": [
    {
     "data": {
      "text/html": [
       "<div>\n",
       "<style scoped>\n",
       "    .dataframe tbody tr th:only-of-type {\n",
       "        vertical-align: middle;\n",
       "    }\n",
       "\n",
       "    .dataframe tbody tr th {\n",
       "        vertical-align: top;\n",
       "    }\n",
       "\n",
       "    .dataframe thead th {\n",
       "        text-align: right;\n",
       "    }\n",
       "</style>\n",
       "<table border=\"1\" class=\"dataframe\">\n",
       "  <thead>\n",
       "    <tr style=\"text-align: right;\">\n",
       "      <th></th>\n",
       "      <th>Employee_No</th>\n",
       "      <th>Date_of_Birth</th>\n",
       "      <th>Gender</th>\n",
       "      <th>Marital_Status</th>\n",
       "      <th>Date_Joined</th>\n",
       "      <th>Date_Resigned</th>\n",
       "      <th>Status</th>\n",
       "      <th>Status_Reason</th>\n",
       "      <th>Inactive_Date</th>\n",
       "      <th>Employment_Category</th>\n",
       "      <th>Employment_Type</th>\n",
       "      <th>Designation</th>\n",
       "      <th>Leave_Count</th>\n",
       "    </tr>\n",
       "  </thead>\n",
       "  <tbody>\n",
       "    <tr>\n",
       "      <th>0</th>\n",
       "      <td>426</td>\n",
       "      <td>1962-05-10</td>\n",
       "      <td>Male</td>\n",
       "      <td>Married</td>\n",
       "      <td>2020-07-03</td>\n",
       "      <td>2021-10-26</td>\n",
       "      <td>Inactive</td>\n",
       "      <td>RESIGN</td>\n",
       "      <td>2021-10-26</td>\n",
       "      <td>Staff</td>\n",
       "      <td>Contarct Basis</td>\n",
       "      <td>Sociologist</td>\n",
       "      <td>11.0</td>\n",
       "    </tr>\n",
       "    <tr>\n",
       "      <th>1</th>\n",
       "      <td>450</td>\n",
       "      <td>1976-05-27</td>\n",
       "      <td>Male</td>\n",
       "      <td>Married</td>\n",
       "      <td>2020-12-03</td>\n",
       "      <td>2021-04-09</td>\n",
       "      <td>Inactive</td>\n",
       "      <td>RESIGN</td>\n",
       "      <td>2021-04-09</td>\n",
       "      <td>Labour</td>\n",
       "      <td>Contarct Basis</td>\n",
       "      <td>Unskilled Labor</td>\n",
       "      <td>60.0</td>\n",
       "    </tr>\n",
       "    <tr>\n",
       "      <th>2</th>\n",
       "      <td>457</td>\n",
       "      <td>1967-03-20</td>\n",
       "      <td>Male</td>\n",
       "      <td>Married</td>\n",
       "      <td>2020-06-01</td>\n",
       "      <td>NaN</td>\n",
       "      <td>Inactive</td>\n",
       "      <td>Resign</td>\n",
       "      <td>2020-09-25</td>\n",
       "      <td>Labour</td>\n",
       "      <td>Contarct Basis</td>\n",
       "      <td>Unskilled Labor</td>\n",
       "      <td>0.0</td>\n",
       "    </tr>\n",
       "    <tr>\n",
       "      <th>3</th>\n",
       "      <td>460</td>\n",
       "      <td>1955-03-10</td>\n",
       "      <td>Male</td>\n",
       "      <td>Married</td>\n",
       "      <td>2020-03-01</td>\n",
       "      <td>0000-00-00</td>\n",
       "      <td>Inactive</td>\n",
       "      <td>Resign</td>\n",
       "      <td>2020-03-31</td>\n",
       "      <td>Labour</td>\n",
       "      <td>Contarct Basis</td>\n",
       "      <td>Semi Skilled Labor</td>\n",
       "      <td>0.0</td>\n",
       "    </tr>\n",
       "    <tr>\n",
       "      <th>4</th>\n",
       "      <td>471</td>\n",
       "      <td>1992-08-16</td>\n",
       "      <td>Male</td>\n",
       "      <td>Single</td>\n",
       "      <td>2021-04-01</td>\n",
       "      <td>2022-02-28</td>\n",
       "      <td>Inactive</td>\n",
       "      <td>RESIGN</td>\n",
       "      <td>2022-02-28</td>\n",
       "      <td>Labour</td>\n",
       "      <td>Contarct Basis</td>\n",
       "      <td>Skilled Labor</td>\n",
       "      <td>73.5</td>\n",
       "    </tr>\n",
       "  </tbody>\n",
       "</table>\n",
       "</div>"
      ],
      "text/plain": [
       "   Employee_No Date_of_Birth Gender Marital_Status Date_Joined Date_Resigned  \\\n",
       "0          426    1962-05-10   Male        Married  2020-07-03    2021-10-26   \n",
       "1          450    1976-05-27   Male        Married  2020-12-03    2021-04-09   \n",
       "2          457    1967-03-20   Male        Married  2020-06-01           NaN   \n",
       "3          460    1955-03-10   Male        Married  2020-03-01    0000-00-00   \n",
       "4          471    1992-08-16   Male         Single  2021-04-01    2022-02-28   \n",
       "\n",
       "     Status Status_Reason Inactive_Date Employment_Category Employment_Type  \\\n",
       "0  Inactive        RESIGN    2021-10-26               Staff  Contarct Basis   \n",
       "1  Inactive        RESIGN    2021-04-09              Labour  Contarct Basis   \n",
       "2  Inactive        Resign    2020-09-25              Labour  Contarct Basis   \n",
       "3  Inactive        Resign    2020-03-31              Labour  Contarct Basis   \n",
       "4  Inactive        RESIGN    2022-02-28              Labour  Contarct Basis   \n",
       "\n",
       "          Designation  Leave_Count  \n",
       "0         Sociologist         11.0  \n",
       "1     Unskilled Labor         60.0  \n",
       "2     Unskilled Labor          0.0  \n",
       "3  Semi Skilled Labor          0.0  \n",
       "4       Skilled Labor         73.5  "
      ]
     },
     "execution_count": 8,
     "metadata": {},
     "output_type": "execute_result"
    }
   ],
   "source": [
    "# Group two datasets\n",
    "\n",
    "df_employee = pd.merge(df_employee, df_leaves_summary, on='Employee_No', how='left')\n",
    "df_employee['Leave_Count'].fillna(0, inplace=True)\n",
    "df_employee.head()"
   ]
  },
  {
   "cell_type": "markdown",
   "id": "7bb03e72",
   "metadata": {},
   "source": [
    "#### Data Preprocessing"
   ]
  },
  {
   "cell_type": "markdown",
   "id": "f46b6cb5",
   "metadata": {},
   "source": [
    "##### Missing values"
   ]
  },
  {
   "cell_type": "code",
   "execution_count": 9,
   "id": "1e6991ff",
   "metadata": {},
   "outputs": [
    {
     "data": {
      "text/plain": [
       "Employee_No            0.000000\n",
       "Date_of_Birth          0.000000\n",
       "Gender                 0.000000\n",
       "Marital_Status         0.096734\n",
       "Date_Joined            0.000000\n",
       "Date_Resigned          0.175879\n",
       "Status                 0.000000\n",
       "Status_Reason          0.192211\n",
       "Inactive_Date          0.104271\n",
       "Employment_Category    0.000000\n",
       "Employment_Type        0.000000\n",
       "Designation            0.000000\n",
       "Leave_Count            0.000000\n",
       "dtype: float64"
      ]
     },
     "execution_count": 9,
     "metadata": {},
     "output_type": "execute_result"
    }
   ],
   "source": [
    "df_employee.isna().sum()/len(df_employee)"
   ]
  },
  {
   "cell_type": "code",
   "execution_count": 10,
   "id": "a7311309",
   "metadata": {},
   "outputs": [
    {
     "data": {
      "text/plain": [
       "0    Married\n",
       "dtype: object"
      ]
     },
     "execution_count": 10,
     "metadata": {},
     "output_type": "execute_result"
    }
   ],
   "source": [
    "df_employee[\"Marital_Status\"].mode()"
   ]
  },
  {
   "cell_type": "code",
   "execution_count": 11,
   "id": "9b0a8661",
   "metadata": {},
   "outputs": [],
   "source": [
    "df_employee[\"Marital_Status\"] = df_employee[\"Marital_Status\"].fillna(\"Married\")"
   ]
  },
  {
   "cell_type": "code",
   "execution_count": 12,
   "id": "174dc819",
   "metadata": {},
   "outputs": [
    {
     "data": {
      "text/plain": [
       "Employee_No            0.000000\n",
       "Date_of_Birth          0.000000\n",
       "Gender                 0.000000\n",
       "Marital_Status         0.000000\n",
       "Date_Joined            0.000000\n",
       "Date_Resigned          0.175879\n",
       "Status                 0.000000\n",
       "Status_Reason          0.192211\n",
       "Inactive_Date          0.104271\n",
       "Employment_Category    0.000000\n",
       "Employment_Type        0.000000\n",
       "Designation            0.000000\n",
       "Leave_Count            0.000000\n",
       "dtype: float64"
      ]
     },
     "execution_count": 12,
     "metadata": {},
     "output_type": "execute_result"
    }
   ],
   "source": [
    "df_employee.isna().sum()/len(df_employee)"
   ]
  },
  {
   "cell_type": "markdown",
   "id": "8579b766",
   "metadata": {},
   "source": [
    "##### Duplicated values"
   ]
  },
  {
   "cell_type": "code",
   "execution_count": 13,
   "id": "d9466e6c",
   "metadata": {},
   "outputs": [
    {
     "data": {
      "text/plain": [
       "(0, 13)"
      ]
     },
     "execution_count": 13,
     "metadata": {},
     "output_type": "execute_result"
    }
   ],
   "source": [
    "duplicateRows = df_employee[df_employee.duplicated()]\n",
    "duplicateRows.shape   ### No duplicates"
   ]
  },
  {
   "cell_type": "markdown",
   "id": "81230977",
   "metadata": {},
   "source": [
    "##### Outliers"
   ]
  },
  {
   "cell_type": "code",
   "execution_count": 18,
   "id": "2246e4b9",
   "metadata": {},
   "outputs": [
    {
     "data": {
      "image/png": "[encoded data removed]",
      "text/plain": [
       "<Figure size 432x288 with 1 Axes>"
      ]
     },
     "metadata": {
      "needs_background": "light"
     },
     "output_type": "display_data"
    }
   ],
   "source": [
    "boxplot = df_employee.boxplot(column=[\"Leave_Count\"]) "
   ]
  },
  {
   "cell_type": "markdown",
   "id": "86751e34",
   "metadata": {},
   "source": [
    "#### Descriptive Analysis"
   ]
  },
  {
   "cell_type": "code",
   "execution_count": 9,
   "id": "315ad5c8",
   "metadata": {},
   "outputs": [
    {
     "data": {
      "image/png": "[encoded data removed]",
      "text/plain": [
       "<Figure size 432x288 with 1 Axes>"
      ]
     },
     "metadata": {
      "needs_background": "light"
     },
     "output_type": "display_data"
    }
   ],
   "source": [
    "temp_plot = df_employee['Employment_Type'].value_counts().plot(kind='bar')\n",
    "temp_plot.bar_label(temp_plot.containers[0], labels=df_employee['Employment_Type'].value_counts())\n",
    "plt.show()"
   ]
  },
  {
   "cell_type": "code",
   "execution_count": 10,
   "id": "b129a77b",
   "metadata": {},
   "outputs": [
    {
     "data": {
      "image/png": "[encoded data removed]",
      "text/plain": [
       "<Figure size 432x288 with 1 Axes>"
      ]
     },
     "metadata": {
      "needs_background": "light"
     },
     "output_type": "display_data"
    }
   ],
   "source": [
    "temp_plot = df_employee['Status'].value_counts().plot(kind='bar')\n",
    "temp_plot.bar_label(temp_plot.containers[0], labels=df_employee['Status'].value_counts())\n",
    "plt.show()"
   ]
  },
  {
   "cell_type": "code",
   "execution_count": 11,
   "id": "cf0bb2f9",
   "metadata": {},
   "outputs": [
    {
     "data": {
      "image/png": "[encoded data removed]",
      "text/plain": [
       "<Figure size 432x288 with 1 Axes>"
      ]
     },
     "metadata": {},
     "output_type": "display_data"
    }
   ],
   "source": [
    "plt.pie(df_employee['Status'].value_counts(), labels=df_employee['Status'].unique(), autopct='%1.1f%%')\n",
    "plt.legend()\n",
    "plt.show()"
   ]
  },
  {
   "cell_type": "code",
   "execution_count": 12,
   "id": "4a088556",
   "metadata": {},
   "outputs": [
    {
     "data": {
      "text/plain": [
       "<seaborn.axisgrid.PairGrid at 0x1aa01c0cc10>"
      ]
     },
     "execution_count": 12,
     "metadata": {},
     "output_type": "execute_result"
    },
    {
     "data": {
      "image/png": "[encoded data removed]",
      "text/plain": [
       "<Figure size 360x360 with 6 Axes>"
      ]
     },
     "metadata": {
      "needs_background": "light"
     },
     "output_type": "display_data"
    }
   ],
   "source": [
    "seaborn.pairplot(df_employee)"
   ]
  },
  {
   "cell_type": "code",
   "execution_count": 13,
   "id": "cb02ddb9",
   "metadata": {},
   "outputs": [
    {
     "data": {
      "text/plain": [
       "count                            641\n",
       "mean     205 days 04:36:19.095163806\n",
       "std      184 days 18:07:16.742888928\n",
       "min                  1 days 00:00:00\n",
       "25%                 68 days 00:00:00\n",
       "50%                158 days 00:00:00\n",
       "75%                291 days 00:00:00\n",
       "max                933 days 00:00:00\n",
       "Name: Employment_Duration, dtype: object"
      ]
     },
     "execution_count": 13,
     "metadata": {},
     "output_type": "execute_result"
    }
   ],
   "source": [
    "df_employee_inactive_contract_based = pd.DataFrame(df_employee.loc[(df_employee['Status'] == 'Inactive') & (df_employee['Employment_Type'] == 'Contarct Basis')])\n",
    "df_employee_inactive_contract_based['Date_Joined'] = pd.to_datetime(df_employee_inactive_contract_based['Date_Joined'])\n",
    "df_employee_inactive_contract_based['Date_Resigned'] = pd.to_datetime(df_employee_inactive_contract_based['Date_Resigned'], errors='coerce')\n",
    "df_employee_inactive_contract_based['Employment_Duration'] = df_employee_inactive_contract_based['Date_Resigned'].fillna(df_employee_inactive_contract_based['Inactive_Date']) - df_employee_inactive_contract_based['Date_Joined'] + pd.Timedelta(days=1)\n",
    "df_employee_inactive_contract_based = df_employee_inactive_contract_based.drop(df_employee_inactive_contract_based[df_employee_inactive_contract_based['Employment_Duration'] < pd.Timedelta(days=0)].index)\n",
    "df_employee_inactive_contract_based['Unavailability_Factor'] = df_employee_inactive_contract_based['Leave_Count'] / df_employee_inactive_contract_based['Employment_Duration'].dt.days\n",
    "\n",
    "# Annotating attrition or not. If the resignation date is a multiple of 1 year contract, we don't consider that as attrition.\n",
    "df_employee_inactive_contract_based.loc[df_employee_inactive_contract_based['Employment_Duration'].dt.days % 365 == 0, 'Is_Attrition'] = 0\n",
    "df_employee_inactive_contract_based.loc[df_employee_inactive_contract_based['Employment_Duration'].dt.days % 365 != 0, 'Is_Attrition'] = 1\n",
    "df_employee_inactive_contract_based['Employment_Duration'].describe()"
   ]
  },
  {
   "cell_type": "code",
   "execution_count": 1253,
   "id": "73b62006",
   "metadata": {},
   "outputs": [],
   "source": [
    "# Too little permanent employees.\n",
    "\n",
    "# df_employee_inactive = pd.DataFrame(df_employee.loc[(df_employee['Status'] == 'Inactive')])\n",
    "# df_employee_inactive['Date_Joined'] = pd.to_datetime(df_employee_inactive['Date_Joined'])\n",
    "# df_employee_inactive['Date_Resigned'] = pd.to_datetime(df_employee_inactive['Date_Resigned'], errors='coerce')\n",
    "# df_employee_inactive['Employment_Duration'] = df_employee_inactive['Date_Resigned'] - df_employee_inactive['Date_Joined'] + pd.Timedelta(days=1)\n",
    "# df_employee_inactive['Unavailability_Factor'] = df_employee_inactive['Leave_Count'] / df_employee_inactive['Employment_Duration'].dt.days\n",
    "# df_employee_inactive['Employment_Duration'].describe()"
   ]
  },
  {
   "cell_type": "code",
   "execution_count": 14,
   "id": "1acba580",
   "metadata": {},
   "outputs": [
    {
     "data": {
      "text/plain": [
       "count                            152\n",
       "mean     458 days 21:09:27.421052632\n",
       "std      258 days 03:59:08.662802828\n",
       "min                 12 days 23:59:59\n",
       "25%                296 days 17:59:59\n",
       "50%                368 days 11:59:59\n",
       "75%                537 days 11:59:59\n",
       "max               1065 days 23:59:59\n",
       "Name: Employment_Duration, dtype: object"
      ]
     },
     "execution_count": 14,
     "metadata": {},
     "output_type": "execute_result"
    }
   ],
   "source": [
    "# Active contract base employee analysis.\n",
    "\n",
    "df_employee_active_contract_based = pd.DataFrame(df_employee.loc[(df_employee['Status'] == 'Active') & (df_employee['Employment_Type'] == 'Contarct Basis')])\n",
    "df_employee_active_contract_based['Date_Joined'] = pd.to_datetime(df_employee_active_contract_based['Date_Joined'])\n",
    "df_employee_active_contract_based['Employment_Duration'] = analysis_period_end_time - df_employee_active_contract_based['Date_Joined'] + pd.Timedelta(days=1)\n",
    "df_employee_active_contract_based['Unavailability_Factor'] = df_employee_active_contract_based['Leave_Count'] / df_employee_active_contract_based['Employment_Duration'].dt.days\n",
    "# Annotating active employees as non-attrition.\n",
    "df_employee_active_contract_based['Is_Attrition'] = 0\n",
    "df_employee_active_contract_based['Employment_Duration'].describe()"
   ]
  },
  {
   "cell_type": "code",
   "execution_count": 15,
   "id": "2c0c9176",
   "metadata": {},
   "outputs": [
    {
     "data": {
      "text/plain": [
       "count    641.000000\n",
       "mean      38.219969\n",
       "std       33.486809\n",
       "min        0.000000\n",
       "25%       10.000000\n",
       "50%       32.000000\n",
       "75%       58.500000\n",
       "max      163.000000\n",
       "Name: Leave_Count, dtype: float64"
      ]
     },
     "execution_count": 15,
     "metadata": {},
     "output_type": "execute_result"
    }
   ],
   "source": [
    "df_employee_inactive_contract_based['Leave_Count'].describe()"
   ]
  },
  {
   "cell_type": "code",
   "execution_count": 16,
   "id": "15837e57",
   "metadata": {},
   "outputs": [
    {
     "data": {
      "text/plain": [
       "count    152.000000\n",
       "mean      55.019737\n",
       "std       50.304565\n",
       "min        0.000000\n",
       "25%       12.500000\n",
       "50%       49.250000\n",
       "75%       82.375000\n",
       "max      305.000000\n",
       "Name: Leave_Count, dtype: float64"
      ]
     },
     "execution_count": 16,
     "metadata": {},
     "output_type": "execute_result"
    }
   ],
   "source": [
    "df_employee_active_contract_based['Leave_Count'].describe()"
   ]
  },
  {
   "cell_type": "code",
   "execution_count": 17,
   "id": "1c90abd4",
   "metadata": {},
   "outputs": [
    {
     "data": {
      "text/plain": [
       "count    641.000000\n",
       "mean       0.512923\n",
       "std        1.840379\n",
       "min        0.000000\n",
       "25%        0.059783\n",
       "50%        0.215827\n",
       "75%        0.363222\n",
       "max       20.000000\n",
       "Name: Unavailability_Factor, dtype: float64"
      ]
     },
     "execution_count": 17,
     "metadata": {},
     "output_type": "execute_result"
    }
   ],
   "source": [
    "df_employee_inactive_contract_based['Unavailability_Factor'].describe()"
   ]
  },
  {
   "cell_type": "code",
   "execution_count": 18,
   "id": "84547c73",
   "metadata": {},
   "outputs": [
    {
     "data": {
      "text/plain": [
       "count    152.000000\n",
       "mean       0.127464\n",
       "std        0.112425\n",
       "min        0.000000\n",
       "25%        0.045296\n",
       "50%        0.108324\n",
       "75%        0.190642\n",
       "max        0.626283\n",
       "Name: Unavailability_Factor, dtype: float64"
      ]
     },
     "execution_count": 18,
     "metadata": {},
     "output_type": "execute_result"
    }
   ],
   "source": [
    "df_employee_active_contract_based['Unavailability_Factor'].describe()"
   ]
  },
  {
   "cell_type": "code",
   "execution_count": 19,
   "id": "ecdf938d",
   "metadata": {},
   "outputs": [
    {
     "data": {
      "image/png": "[encoded data removed]",
      "text/plain": [
       "<Figure size 432x288 with 1 Axes>"
      ]
     },
     "metadata": {
      "needs_background": "light"
     },
     "output_type": "display_data"
    }
   ],
   "source": [
    "# Joining tables for attrition.\n",
    "df_employee_for_modeling = pd.concat([df_employee_inactive_contract_based, df_employee_active_contract_based])\n",
    "df_employee_for_modeling['Employment_Duration'] = df_employee_for_modeling['Employment_Duration'].dt.days\n",
    "temp_plot = df_employee_for_modeling['Is_Attrition'].value_counts().plot(kind='bar')\n",
    "temp_plot.bar_label(temp_plot.containers[0], labels=df_employee_for_modeling['Is_Attrition'].value_counts())\n",
    "plt.show()"
   ]
  },
  {
   "cell_type": "markdown",
   "id": "d31c00c1",
   "metadata": {},
   "source": []
  },
  {
   "cell_type": "markdown",
   "id": "49cc885c",
   "metadata": {},
   "source": []
  },
  {
   "cell_type": "code",
   "execution_count": null,
   "id": "d98e752b",
   "metadata": {},
   "outputs": [],
   "source": []
  },
  {
   "cell_type": "code",
   "execution_count": null,
   "id": "4a1b009b",
   "metadata": {},
   "outputs": [],
   "source": []
  },
  {
   "cell_type": "code",
   "execution_count": null,
   "id": "d411bedb",
   "metadata": {},
   "outputs": [],
   "source": []
  },
  {
   "cell_type": "markdown",
   "id": "d02c7262",
   "metadata": {},
   "source": [
    "#### Creating Dummy Variables"
   ]
  },
  {
   "cell_type": "code",
   "execution_count": 21,
   "id": "40912565",
   "metadata": {},
   "outputs": [
    {
     "data": {
      "text/html": [
       "<div>\n",
       "<style scoped>\n",
       "    .dataframe tbody tr th:only-of-type {\n",
       "        vertical-align: middle;\n",
       "    }\n",
       "\n",
       "    .dataframe tbody tr th {\n",
       "        vertical-align: top;\n",
       "    }\n",
       "\n",
       "    .dataframe thead th {\n",
       "        text-align: right;\n",
       "    }\n",
       "</style>\n",
       "<table border=\"1\" class=\"dataframe\">\n",
       "  <thead>\n",
       "    <tr style=\"text-align: right;\">\n",
       "      <th></th>\n",
       "      <th>Employee_No</th>\n",
       "      <th>Date_of_Birth</th>\n",
       "      <th>Gender</th>\n",
       "      <th>Marital_Status</th>\n",
       "      <th>Date_Joined</th>\n",
       "      <th>Date_Resigned</th>\n",
       "      <th>Status</th>\n",
       "      <th>Status_Reason</th>\n",
       "      <th>Inactive_Date</th>\n",
       "      <th>Employment_Category</th>\n",
       "      <th>Employment_Type</th>\n",
       "      <th>Designation</th>\n",
       "      <th>Leave_Count</th>\n",
       "      <th>Employment_Duration</th>\n",
       "      <th>Unavailability_Factor</th>\n",
       "      <th>Is_Attrition</th>\n",
       "    </tr>\n",
       "  </thead>\n",
       "  <tbody>\n",
       "    <tr>\n",
       "      <th>0</th>\n",
       "      <td>426</td>\n",
       "      <td>1962-05-10</td>\n",
       "      <td>Male</td>\n",
       "      <td>Married</td>\n",
       "      <td>2020-07-03</td>\n",
       "      <td>2021-10-26 00:00:00</td>\n",
       "      <td>Inactive</td>\n",
       "      <td>RESIGN</td>\n",
       "      <td>2021-10-26</td>\n",
       "      <td>Staff</td>\n",
       "      <td>Contarct Basis</td>\n",
       "      <td>Sociologist</td>\n",
       "      <td>11.0</td>\n",
       "      <td>481</td>\n",
       "      <td>0.022869</td>\n",
       "      <td>1.0</td>\n",
       "    </tr>\n",
       "    <tr>\n",
       "      <th>1</th>\n",
       "      <td>450</td>\n",
       "      <td>1976-05-27</td>\n",
       "      <td>Male</td>\n",
       "      <td>Married</td>\n",
       "      <td>2020-12-03</td>\n",
       "      <td>2021-04-09 00:00:00</td>\n",
       "      <td>Inactive</td>\n",
       "      <td>RESIGN</td>\n",
       "      <td>2021-04-09</td>\n",
       "      <td>Labour</td>\n",
       "      <td>Contarct Basis</td>\n",
       "      <td>Unskilled Labor</td>\n",
       "      <td>60.0</td>\n",
       "      <td>128</td>\n",
       "      <td>0.468750</td>\n",
       "      <td>1.0</td>\n",
       "    </tr>\n",
       "    <tr>\n",
       "      <th>2</th>\n",
       "      <td>457</td>\n",
       "      <td>1967-03-20</td>\n",
       "      <td>Male</td>\n",
       "      <td>Married</td>\n",
       "      <td>2020-06-01</td>\n",
       "      <td>NaT</td>\n",
       "      <td>Inactive</td>\n",
       "      <td>Resign</td>\n",
       "      <td>2020-09-25</td>\n",
       "      <td>Labour</td>\n",
       "      <td>Contarct Basis</td>\n",
       "      <td>Unskilled Labor</td>\n",
       "      <td>0.0</td>\n",
       "      <td>117</td>\n",
       "      <td>0.000000</td>\n",
       "      <td>1.0</td>\n",
       "    </tr>\n",
       "    <tr>\n",
       "      <th>3</th>\n",
       "      <td>460</td>\n",
       "      <td>1955-03-10</td>\n",
       "      <td>Male</td>\n",
       "      <td>Married</td>\n",
       "      <td>2020-03-01</td>\n",
       "      <td>NaT</td>\n",
       "      <td>Inactive</td>\n",
       "      <td>Resign</td>\n",
       "      <td>2020-03-31</td>\n",
       "      <td>Labour</td>\n",
       "      <td>Contarct Basis</td>\n",
       "      <td>Semi Skilled Labor</td>\n",
       "      <td>0.0</td>\n",
       "      <td>31</td>\n",
       "      <td>0.000000</td>\n",
       "      <td>1.0</td>\n",
       "    </tr>\n",
       "    <tr>\n",
       "      <th>4</th>\n",
       "      <td>471</td>\n",
       "      <td>1992-08-16</td>\n",
       "      <td>Male</td>\n",
       "      <td>Single</td>\n",
       "      <td>2021-04-01</td>\n",
       "      <td>2022-02-28 00:00:00</td>\n",
       "      <td>Inactive</td>\n",
       "      <td>RESIGN</td>\n",
       "      <td>2022-02-28</td>\n",
       "      <td>Labour</td>\n",
       "      <td>Contarct Basis</td>\n",
       "      <td>Skilled Labor</td>\n",
       "      <td>73.5</td>\n",
       "      <td>334</td>\n",
       "      <td>0.220060</td>\n",
       "      <td>1.0</td>\n",
       "    </tr>\n",
       "  </tbody>\n",
       "</table>\n",
       "</div>"
      ],
      "text/plain": [
       "   Employee_No Date_of_Birth Gender Marital_Status Date_Joined  \\\n",
       "0          426    1962-05-10   Male        Married  2020-07-03   \n",
       "1          450    1976-05-27   Male        Married  2020-12-03   \n",
       "2          457    1967-03-20   Male        Married  2020-06-01   \n",
       "3          460    1955-03-10   Male        Married  2020-03-01   \n",
       "4          471    1992-08-16   Male         Single  2021-04-01   \n",
       "\n",
       "         Date_Resigned    Status Status_Reason Inactive_Date  \\\n",
       "0  2021-10-26 00:00:00  Inactive        RESIGN    2021-10-26   \n",
       "1  2021-04-09 00:00:00  Inactive        RESIGN    2021-04-09   \n",
       "2                  NaT  Inactive        Resign    2020-09-25   \n",
       "3                  NaT  Inactive        Resign    2020-03-31   \n",
       "4  2022-02-28 00:00:00  Inactive        RESIGN    2022-02-28   \n",
       "\n",
       "  Employment_Category Employment_Type         Designation  Leave_Count  \\\n",
       "0               Staff  Contarct Basis         Sociologist         11.0   \n",
       "1              Labour  Contarct Basis     Unskilled Labor         60.0   \n",
       "2              Labour  Contarct Basis     Unskilled Labor          0.0   \n",
       "3              Labour  Contarct Basis  Semi Skilled Labor          0.0   \n",
       "4              Labour  Contarct Basis       Skilled Labor         73.5   \n",
       "\n",
       "   Employment_Duration  Unavailability_Factor  Is_Attrition  \n",
       "0                  481               0.022869           1.0  \n",
       "1                  128               0.468750           1.0  \n",
       "2                  117               0.000000           1.0  \n",
       "3                   31               0.000000           1.0  \n",
       "4                  334               0.220060           1.0  "
      ]
     },
     "execution_count": 21,
     "metadata": {},
     "output_type": "execute_result"
    }
   ],
   "source": [
    "df_employee_for_modeling.head()"
   ]
  },
  {
   "cell_type": "markdown",
   "id": "b0c4e886",
   "metadata": {},
   "source": [
    "##### Checking categories in each variable"
   ]
  },
  {
   "cell_type": "code",
   "execution_count": 22,
   "id": "74c3e5c8",
   "metadata": {},
   "outputs": [
    {
     "data": {
      "text/plain": [
       "Male      735\n",
       "Female     58\n",
       "Name: Gender, dtype: int64"
      ]
     },
     "execution_count": 22,
     "metadata": {},
     "output_type": "execute_result"
    }
   ],
   "source": [
    "df_employee_for_modeling['Gender'].value_counts()  # need to create dummy variables"
   ]
  },
  {
   "cell_type": "code",
   "execution_count": 65,
   "id": "9ffc5a1b",
   "metadata": {},
   "outputs": [
    {
     "data": {
      "text/plain": [
       "Married    470\n",
       "Single     247\n",
       "Name: Marital_Status, dtype: int64"
      ]
     },
     "execution_count": 65,
     "metadata": {},
     "output_type": "execute_result"
    }
   ],
   "source": [
    "df_employee_for_modeling['Marital_Status'].value_counts()  # need to create dummy variables"
   ]
  },
  {
   "cell_type": "code",
   "execution_count": 24,
   "id": "5bcdf9c6",
   "metadata": {},
   "outputs": [
    {
     "data": {
      "text/plain": [
       "Inactive    641\n",
       "Active      152\n",
       "Name: Status, dtype: int64"
      ]
     },
     "execution_count": 24,
     "metadata": {},
     "output_type": "execute_result"
    }
   ],
   "source": [
    "df_employee_for_modeling['Status'].value_counts()  # need to create dummy variables"
   ]
  },
  {
   "cell_type": "code",
   "execution_count": 25,
   "id": "76c6a171",
   "metadata": {},
   "outputs": [
    {
     "data": {
      "text/plain": [
       "RESIGN                                                          442\n",
       "Resign                                                          114\n",
       "Resigned                                                         22\n",
       "resign                                                           18\n",
       "VOP                                                              14\n",
       "resigned                                                          9\n",
       "Left                                                              5\n",
       "Discontinuation of Service on Fixed Term Employment Contract      2\n",
       "Bulk Termination                                                  2\n",
       "RESIGNED                                                          2\n",
       " resign                                                           2\n",
       "SERVICE DISCONTINUATION                                           2\n",
       "vOP                                                               1\n",
       "Bulk Terminaion                                                   1\n",
       "Resigend                                                          1\n",
       "Allocate to staff category                                        1\n",
       "BUlk Termination                                                  1\n",
       "Change the Temp No to EPF No\\r\\\\nRESIGN                           1\n",
       "LEFT                                                              1\n",
       "Name: Status_Reason, dtype: int64"
      ]
     },
     "execution_count": 25,
     "metadata": {},
     "output_type": "execute_result"
    }
   ],
   "source": [
    "df_employee_for_modeling['Status_Reason'].value_counts()  ## cant have dummy variables - too many categories"
   ]
  },
  {
   "cell_type": "code",
   "execution_count": 26,
   "id": "9d2d4ce5",
   "metadata": {},
   "outputs": [
    {
     "data": {
      "text/plain": [
       "Labour        532\n",
       "Staff         241\n",
       "Management     20\n",
       "Name: Employment_Category, dtype: int64"
      ]
     },
     "execution_count": 26,
     "metadata": {},
     "output_type": "execute_result"
    }
   ],
   "source": [
    "df_employee_for_modeling['Employment_Category'].value_counts()"
   ]
  },
  {
   "cell_type": "code",
   "execution_count": 27,
   "id": "d6da48a3",
   "metadata": {},
   "outputs": [
    {
     "data": {
      "text/plain": [
       "Contarct Basis    793\n",
       "Name: Employment_Type, dtype: int64"
      ]
     },
     "execution_count": 27,
     "metadata": {},
     "output_type": "execute_result"
    }
   ],
   "source": [
    "df_employee_for_modeling['Employment_Type'].value_counts()"
   ]
  },
  {
   "cell_type": "code",
   "execution_count": 28,
   "id": "c6bbc594",
   "metadata": {},
   "outputs": [
    {
     "data": {
      "text/plain": [
       "Unskilled Labor               317\n",
       "Mason                          33\n",
       "Skilled Labor                  28\n",
       "Technical Officer              26\n",
       "Semi Skilled Labor             24\n",
       "                             ... \n",
       "IT Consultant                   1\n",
       "Data Entry Executive            1\n",
       "Planning Engineer cum QAQC      1\n",
       "Trainee Safety Officer          1\n",
       "Software Developer              1\n",
       "Name: Designation, Length: 107, dtype: int64"
      ]
     },
     "execution_count": 28,
     "metadata": {},
     "output_type": "execute_result"
    }
   ],
   "source": [
    "df_employee_for_modeling['Designation'].value_counts() ## need to remove - too many categories"
   ]
  },
  {
   "cell_type": "markdown",
   "id": "2ec4a872",
   "metadata": {},
   "source": [
    "##### Creating dummy variables"
   ]
  },
  {
   "cell_type": "code",
   "execution_count": 29,
   "id": "9b5eb72b",
   "metadata": {},
   "outputs": [
    {
     "data": {
      "text/html": [
       "<div>\n",
       "<style scoped>\n",
       "    .dataframe tbody tr th:only-of-type {\n",
       "        vertical-align: middle;\n",
       "    }\n",
       "\n",
       "    .dataframe tbody tr th {\n",
       "        vertical-align: top;\n",
       "    }\n",
       "\n",
       "    .dataframe thead th {\n",
       "        text-align: right;\n",
       "    }\n",
       "</style>\n",
       "<table border=\"1\" class=\"dataframe\">\n",
       "  <thead>\n",
       "    <tr style=\"text-align: right;\">\n",
       "      <th></th>\n",
       "      <th>Gender_Female</th>\n",
       "      <th>Gender_Male</th>\n",
       "      <th>Marital_Status_Married</th>\n",
       "      <th>Marital_Status_Single</th>\n",
       "      <th>Status_Active</th>\n",
       "      <th>Status_Inactive</th>\n",
       "      <th>Employment_Category_Labour</th>\n",
       "      <th>Employment_Category_Management</th>\n",
       "      <th>Employment_Category_Staff</th>\n",
       "    </tr>\n",
       "  </thead>\n",
       "  <tbody>\n",
       "    <tr>\n",
       "      <th>0</th>\n",
       "      <td>0</td>\n",
       "      <td>1</td>\n",
       "      <td>1</td>\n",
       "      <td>0</td>\n",
       "      <td>0</td>\n",
       "      <td>1</td>\n",
       "      <td>0</td>\n",
       "      <td>0</td>\n",
       "      <td>1</td>\n",
       "    </tr>\n",
       "    <tr>\n",
       "      <th>1</th>\n",
       "      <td>0</td>\n",
       "      <td>1</td>\n",
       "      <td>1</td>\n",
       "      <td>0</td>\n",
       "      <td>0</td>\n",
       "      <td>1</td>\n",
       "      <td>1</td>\n",
       "      <td>0</td>\n",
       "      <td>0</td>\n",
       "    </tr>\n",
       "    <tr>\n",
       "      <th>2</th>\n",
       "      <td>0</td>\n",
       "      <td>1</td>\n",
       "      <td>1</td>\n",
       "      <td>0</td>\n",
       "      <td>0</td>\n",
       "      <td>1</td>\n",
       "      <td>1</td>\n",
       "      <td>0</td>\n",
       "      <td>0</td>\n",
       "    </tr>\n",
       "    <tr>\n",
       "      <th>3</th>\n",
       "      <td>0</td>\n",
       "      <td>1</td>\n",
       "      <td>1</td>\n",
       "      <td>0</td>\n",
       "      <td>0</td>\n",
       "      <td>1</td>\n",
       "      <td>1</td>\n",
       "      <td>0</td>\n",
       "      <td>0</td>\n",
       "    </tr>\n",
       "    <tr>\n",
       "      <th>4</th>\n",
       "      <td>0</td>\n",
       "      <td>1</td>\n",
       "      <td>0</td>\n",
       "      <td>1</td>\n",
       "      <td>0</td>\n",
       "      <td>1</td>\n",
       "      <td>1</td>\n",
       "      <td>0</td>\n",
       "      <td>0</td>\n",
       "    </tr>\n",
       "  </tbody>\n",
       "</table>\n",
       "</div>"
      ],
      "text/plain": [
       "   Gender_Female  Gender_Male  Marital_Status_Married  Marital_Status_Single  \\\n",
       "0              0            1                       1                      0   \n",
       "1              0            1                       1                      0   \n",
       "2              0            1                       1                      0   \n",
       "3              0            1                       1                      0   \n",
       "4              0            1                       0                      1   \n",
       "\n",
       "   Status_Active  Status_Inactive  Employment_Category_Labour  \\\n",
       "0              0                1                           0   \n",
       "1              0                1                           1   \n",
       "2              0                1                           1   \n",
       "3              0                1                           1   \n",
       "4              0                1                           1   \n",
       "\n",
       "   Employment_Category_Management  Employment_Category_Staff  \n",
       "0                               0                          1  \n",
       "1                               0                          0  \n",
       "2                               0                          0  \n",
       "3                               0                          0  \n",
       "4                               0                          0  "
      ]
     },
     "execution_count": 29,
     "metadata": {},
     "output_type": "execute_result"
    }
   ],
   "source": [
    "df_dummy = pd.get_dummies(df_employee_for_modeling[[\"Gender\",\"Marital_Status\", \"Status\", \"Employment_Category\"]])\n",
    "df_dummy.head()"
   ]
  },
  {
   "cell_type": "code",
   "execution_count": 30,
   "id": "5776a3a5",
   "metadata": {},
   "outputs": [],
   "source": [
    "## Removing one level from each\n",
    "\n",
    "df_dummy.drop([\"Gender_Female\",\"Marital_Status_Single\",\"Status_Active\",\"Employment_Category_Management\"],axis=1,inplace=True)"
   ]
  },
  {
   "cell_type": "code",
   "execution_count": 31,
   "id": "9ea13277",
   "metadata": {},
   "outputs": [
    {
     "data": {
      "text/html": [
       "<div>\n",
       "<style scoped>\n",
       "    .dataframe tbody tr th:only-of-type {\n",
       "        vertical-align: middle;\n",
       "    }\n",
       "\n",
       "    .dataframe tbody tr th {\n",
       "        vertical-align: top;\n",
       "    }\n",
       "\n",
       "    .dataframe thead th {\n",
       "        text-align: right;\n",
       "    }\n",
       "</style>\n",
       "<table border=\"1\" class=\"dataframe\">\n",
       "  <thead>\n",
       "    <tr style=\"text-align: right;\">\n",
       "      <th></th>\n",
       "      <th>Gender_Male</th>\n",
       "      <th>Marital_Status_Married</th>\n",
       "      <th>Status_Inactive</th>\n",
       "      <th>Employment_Category_Labour</th>\n",
       "      <th>Employment_Category_Staff</th>\n",
       "      <th>Employee_No</th>\n",
       "      <th>Date_of_Birth</th>\n",
       "      <th>Gender</th>\n",
       "      <th>Marital_Status</th>\n",
       "      <th>Date_Joined</th>\n",
       "      <th>...</th>\n",
       "      <th>Status</th>\n",
       "      <th>Status_Reason</th>\n",
       "      <th>Inactive_Date</th>\n",
       "      <th>Employment_Category</th>\n",
       "      <th>Employment_Type</th>\n",
       "      <th>Designation</th>\n",
       "      <th>Leave_Count</th>\n",
       "      <th>Employment_Duration</th>\n",
       "      <th>Unavailability_Factor</th>\n",
       "      <th>Is_Attrition</th>\n",
       "    </tr>\n",
       "  </thead>\n",
       "  <tbody>\n",
       "    <tr>\n",
       "      <th>0</th>\n",
       "      <td>1</td>\n",
       "      <td>1</td>\n",
       "      <td>1</td>\n",
       "      <td>0</td>\n",
       "      <td>1</td>\n",
       "      <td>426</td>\n",
       "      <td>1962-05-10</td>\n",
       "      <td>Male</td>\n",
       "      <td>Married</td>\n",
       "      <td>2020-07-03</td>\n",
       "      <td>...</td>\n",
       "      <td>Inactive</td>\n",
       "      <td>RESIGN</td>\n",
       "      <td>2021-10-26</td>\n",
       "      <td>Staff</td>\n",
       "      <td>Contarct Basis</td>\n",
       "      <td>Sociologist</td>\n",
       "      <td>11.0</td>\n",
       "      <td>481</td>\n",
       "      <td>0.022869</td>\n",
       "      <td>1.0</td>\n",
       "    </tr>\n",
       "    <tr>\n",
       "      <th>1</th>\n",
       "      <td>1</td>\n",
       "      <td>1</td>\n",
       "      <td>1</td>\n",
       "      <td>1</td>\n",
       "      <td>0</td>\n",
       "      <td>450</td>\n",
       "      <td>1976-05-27</td>\n",
       "      <td>Male</td>\n",
       "      <td>Married</td>\n",
       "      <td>2020-12-03</td>\n",
       "      <td>...</td>\n",
       "      <td>Inactive</td>\n",
       "      <td>RESIGN</td>\n",
       "      <td>2021-04-09</td>\n",
       "      <td>Labour</td>\n",
       "      <td>Contarct Basis</td>\n",
       "      <td>Unskilled Labor</td>\n",
       "      <td>60.0</td>\n",
       "      <td>128</td>\n",
       "      <td>0.468750</td>\n",
       "      <td>1.0</td>\n",
       "    </tr>\n",
       "    <tr>\n",
       "      <th>2</th>\n",
       "      <td>1</td>\n",
       "      <td>1</td>\n",
       "      <td>1</td>\n",
       "      <td>1</td>\n",
       "      <td>0</td>\n",
       "      <td>457</td>\n",
       "      <td>1967-03-20</td>\n",
       "      <td>Male</td>\n",
       "      <td>Married</td>\n",
       "      <td>2020-06-01</td>\n",
       "      <td>...</td>\n",
       "      <td>Inactive</td>\n",
       "      <td>Resign</td>\n",
       "      <td>2020-09-25</td>\n",
       "      <td>Labour</td>\n",
       "      <td>Contarct Basis</td>\n",
       "      <td>Unskilled Labor</td>\n",
       "      <td>0.0</td>\n",
       "      <td>117</td>\n",
       "      <td>0.000000</td>\n",
       "      <td>1.0</td>\n",
       "    </tr>\n",
       "    <tr>\n",
       "      <th>3</th>\n",
       "      <td>1</td>\n",
       "      <td>1</td>\n",
       "      <td>1</td>\n",
       "      <td>1</td>\n",
       "      <td>0</td>\n",
       "      <td>460</td>\n",
       "      <td>1955-03-10</td>\n",
       "      <td>Male</td>\n",
       "      <td>Married</td>\n",
       "      <td>2020-03-01</td>\n",
       "      <td>...</td>\n",
       "      <td>Inactive</td>\n",
       "      <td>Resign</td>\n",
       "      <td>2020-03-31</td>\n",
       "      <td>Labour</td>\n",
       "      <td>Contarct Basis</td>\n",
       "      <td>Semi Skilled Labor</td>\n",
       "      <td>0.0</td>\n",
       "      <td>31</td>\n",
       "      <td>0.000000</td>\n",
       "      <td>1.0</td>\n",
       "    </tr>\n",
       "    <tr>\n",
       "      <th>4</th>\n",
       "      <td>1</td>\n",
       "      <td>0</td>\n",
       "      <td>1</td>\n",
       "      <td>1</td>\n",
       "      <td>0</td>\n",
       "      <td>471</td>\n",
       "      <td>1992-08-16</td>\n",
       "      <td>Male</td>\n",
       "      <td>Single</td>\n",
       "      <td>2021-04-01</td>\n",
       "      <td>...</td>\n",
       "      <td>Inactive</td>\n",
       "      <td>RESIGN</td>\n",
       "      <td>2022-02-28</td>\n",
       "      <td>Labour</td>\n",
       "      <td>Contarct Basis</td>\n",
       "      <td>Skilled Labor</td>\n",
       "      <td>73.5</td>\n",
       "      <td>334</td>\n",
       "      <td>0.220060</td>\n",
       "      <td>1.0</td>\n",
       "    </tr>\n",
       "  </tbody>\n",
       "</table>\n",
       "<p>5 rows × 21 columns</p>\n",
       "</div>"
      ],
      "text/plain": [
       "   Gender_Male  Marital_Status_Married  Status_Inactive  \\\n",
       "0            1                       1                1   \n",
       "1            1                       1                1   \n",
       "2            1                       1                1   \n",
       "3            1                       1                1   \n",
       "4            1                       0                1   \n",
       "\n",
       "   Employment_Category_Labour  Employment_Category_Staff  Employee_No  \\\n",
       "0                           0                          1          426   \n",
       "1                           1                          0          450   \n",
       "2                           1                          0          457   \n",
       "3                           1                          0          460   \n",
       "4                           1                          0          471   \n",
       "\n",
       "  Date_of_Birth Gender Marital_Status Date_Joined  ...    Status  \\\n",
       "0    1962-05-10   Male        Married  2020-07-03  ...  Inactive   \n",
       "1    1976-05-27   Male        Married  2020-12-03  ...  Inactive   \n",
       "2    1967-03-20   Male        Married  2020-06-01  ...  Inactive   \n",
       "3    1955-03-10   Male        Married  2020-03-01  ...  Inactive   \n",
       "4    1992-08-16   Male         Single  2021-04-01  ...  Inactive   \n",
       "\n",
       "  Status_Reason Inactive_Date Employment_Category Employment_Type  \\\n",
       "0        RESIGN    2021-10-26               Staff  Contarct Basis   \n",
       "1        RESIGN    2021-04-09              Labour  Contarct Basis   \n",
       "2        Resign    2020-09-25              Labour  Contarct Basis   \n",
       "3        Resign    2020-03-31              Labour  Contarct Basis   \n",
       "4        RESIGN    2022-02-28              Labour  Contarct Basis   \n",
       "\n",
       "          Designation Leave_Count  Employment_Duration  Unavailability_Factor  \\\n",
       "0         Sociologist        11.0                  481               0.022869   \n",
       "1     Unskilled Labor        60.0                  128               0.468750   \n",
       "2     Unskilled Labor         0.0                  117               0.000000   \n",
       "3  Semi Skilled Labor         0.0                   31               0.000000   \n",
       "4       Skilled Labor        73.5                  334               0.220060   \n",
       "\n",
       "   Is_Attrition  \n",
       "0           1.0  \n",
       "1           1.0  \n",
       "2           1.0  \n",
       "3           1.0  \n",
       "4           1.0  \n",
       "\n",
       "[5 rows x 21 columns]"
      ]
     },
     "execution_count": 31,
     "metadata": {},
     "output_type": "execute_result"
    }
   ],
   "source": [
    "df_employee_final = pd.concat([df_dummy, df_employee_for_modeling],axis=1)\n",
    "df_employee_final.head()"
   ]
  },
  {
   "cell_type": "code",
   "execution_count": 32,
   "id": "036bed05",
   "metadata": {},
   "outputs": [
    {
     "data": {
      "text/plain": [
       "Index(['Gender_Male', 'Marital_Status_Married', 'Status_Inactive',\n",
       "       'Employment_Category_Labour', 'Employment_Category_Staff',\n",
       "       'Employee_No', 'Date_of_Birth', 'Gender', 'Marital_Status',\n",
       "       'Date_Joined', 'Date_Resigned', 'Status', 'Status_Reason',\n",
       "       'Inactive_Date', 'Employment_Category', 'Employment_Type',\n",
       "       'Designation', 'Leave_Count', 'Employment_Duration',\n",
       "       'Unavailability_Factor', 'Is_Attrition'],\n",
       "      dtype='object')"
      ]
     },
     "execution_count": 32,
     "metadata": {},
     "output_type": "execute_result"
    }
   ],
   "source": [
    "df_employee_final.columns"
   ]
  },
  {
   "cell_type": "code",
   "execution_count": 33,
   "id": "f8a84da2",
   "metadata": {},
   "outputs": [
    {
     "data": {
      "text/html": [
       "<div>\n",
       "<style scoped>\n",
       "    .dataframe tbody tr th:only-of-type {\n",
       "        vertical-align: middle;\n",
       "    }\n",
       "\n",
       "    .dataframe tbody tr th {\n",
       "        vertical-align: top;\n",
       "    }\n",
       "\n",
       "    .dataframe thead th {\n",
       "        text-align: right;\n",
       "    }\n",
       "</style>\n",
       "<table border=\"1\" class=\"dataframe\">\n",
       "  <thead>\n",
       "    <tr style=\"text-align: right;\">\n",
       "      <th></th>\n",
       "      <th>Gender_Male</th>\n",
       "      <th>Marital_Status_Married</th>\n",
       "      <th>Employment_Category_Labour</th>\n",
       "      <th>Employment_Category_Staff</th>\n",
       "      <th>Leave_Count</th>\n",
       "      <th>Employment_Duration</th>\n",
       "      <th>Unavailability_Factor</th>\n",
       "      <th>Is_Attrition</th>\n",
       "    </tr>\n",
       "  </thead>\n",
       "  <tbody>\n",
       "    <tr>\n",
       "      <th>0</th>\n",
       "      <td>1</td>\n",
       "      <td>1</td>\n",
       "      <td>0</td>\n",
       "      <td>1</td>\n",
       "      <td>11.0</td>\n",
       "      <td>481</td>\n",
       "      <td>0.022869</td>\n",
       "      <td>1.0</td>\n",
       "    </tr>\n",
       "    <tr>\n",
       "      <th>1</th>\n",
       "      <td>1</td>\n",
       "      <td>1</td>\n",
       "      <td>1</td>\n",
       "      <td>0</td>\n",
       "      <td>60.0</td>\n",
       "      <td>128</td>\n",
       "      <td>0.468750</td>\n",
       "      <td>1.0</td>\n",
       "    </tr>\n",
       "    <tr>\n",
       "      <th>2</th>\n",
       "      <td>1</td>\n",
       "      <td>1</td>\n",
       "      <td>1</td>\n",
       "      <td>0</td>\n",
       "      <td>0.0</td>\n",
       "      <td>117</td>\n",
       "      <td>0.000000</td>\n",
       "      <td>1.0</td>\n",
       "    </tr>\n",
       "    <tr>\n",
       "      <th>3</th>\n",
       "      <td>1</td>\n",
       "      <td>1</td>\n",
       "      <td>1</td>\n",
       "      <td>0</td>\n",
       "      <td>0.0</td>\n",
       "      <td>31</td>\n",
       "      <td>0.000000</td>\n",
       "      <td>1.0</td>\n",
       "    </tr>\n",
       "    <tr>\n",
       "      <th>4</th>\n",
       "      <td>1</td>\n",
       "      <td>0</td>\n",
       "      <td>1</td>\n",
       "      <td>0</td>\n",
       "      <td>73.5</td>\n",
       "      <td>334</td>\n",
       "      <td>0.220060</td>\n",
       "      <td>1.0</td>\n",
       "    </tr>\n",
       "  </tbody>\n",
       "</table>\n",
       "</div>"
      ],
      "text/plain": [
       "   Gender_Male  Marital_Status_Married  Employment_Category_Labour  \\\n",
       "0            1                       1                           0   \n",
       "1            1                       1                           1   \n",
       "2            1                       1                           1   \n",
       "3            1                       1                           1   \n",
       "4            1                       0                           1   \n",
       "\n",
       "   Employment_Category_Staff  Leave_Count  Employment_Duration  \\\n",
       "0                          1         11.0                  481   \n",
       "1                          0         60.0                  128   \n",
       "2                          0          0.0                  117   \n",
       "3                          0          0.0                   31   \n",
       "4                          0         73.5                  334   \n",
       "\n",
       "   Unavailability_Factor  Is_Attrition  \n",
       "0               0.022869           1.0  \n",
       "1               0.468750           1.0  \n",
       "2               0.000000           1.0  \n",
       "3               0.000000           1.0  \n",
       "4               0.220060           1.0  "
      ]
     },
     "execution_count": 33,
     "metadata": {},
     "output_type": "execute_result"
    }
   ],
   "source": [
    "## Rmove original categorical variables\n",
    "\n",
    "df_employee_final.drop([\"Employee_No\",\"Date_of_Birth\",\"Gender\",\"Marital_Status\",\"Date_Joined\",\"Date_Resigned\",\"Status\",\"Status_Reason\",\"Inactive_Date\",\"Employment_Category\",\"Employment_Type\",\"Designation\",\"Status_Inactive\"],axis=1,inplace=True)\n",
    "df_employee_final.head() "
   ]
  },
  {
   "cell_type": "markdown",
   "id": "70f4d4c1",
   "metadata": {},
   "source": [
    "#### Checking multicolinearity of independent variables"
   ]
  },
  {
   "cell_type": "code",
   "execution_count": 34,
   "id": "460f0077",
   "metadata": {},
   "outputs": [
    {
     "data": {
      "image/png": "[encoded data removed]",
      "text/plain": [
       "<Figure size 432x288 with 2 Axes>"
      ]
     },
     "metadata": {
      "needs_background": "light"
     },
     "output_type": "display_data"
    }
   ],
   "source": [
    "#creating the correlation matrix\n",
    "matrix = df_employee_final.corr()\n",
    "sns.heatmap(matrix, annot=True)\n",
    "plt.title(\"Correlation matrix \")\n",
    "plt.show()"
   ]
  },
  {
   "cell_type": "code",
   "execution_count": 36,
   "id": "88a5885c",
   "metadata": {},
   "outputs": [],
   "source": [
    "from patsy import dmatrices\n",
    "from statsmodels.stats.outliers_influence import variance_inflation_factor\n",
    "\n",
    "#find design matrix for regression model using 'rating' as response variable \n",
    "y, X = dmatrices('Is_Attrition ~ Gender_Male+Marital_Status_Married+Employment_Category_Labour+Employment_Category_Staff+Leave_Count+Employment_Duration+Unavailability_Factor', data=df_employee_final, return_type='dataframe')\n",
    "\n",
    "#create DataFrame to hold VIF values\n",
    "vif_df = pd.DataFrame()\n",
    "vif_df['variable'] = X.columns \n",
    "\n",
    "#calculate VIF for each predictor variable \n",
    "vif_df['VIF'] = [variance_inflation_factor(X.values, i) for i in range(X.shape[1])]\n"
   ]
  },
  {
   "cell_type": "code",
   "execution_count": 37,
   "id": "6bf454af",
   "metadata": {},
   "outputs": [
    {
     "data": {
      "text/html": [
       "<div>\n",
       "<style scoped>\n",
       "    .dataframe tbody tr th:only-of-type {\n",
       "        vertical-align: middle;\n",
       "    }\n",
       "\n",
       "    .dataframe tbody tr th {\n",
       "        vertical-align: top;\n",
       "    }\n",
       "\n",
       "    .dataframe thead th {\n",
       "        text-align: right;\n",
       "    }\n",
       "</style>\n",
       "<table border=\"1\" class=\"dataframe\">\n",
       "  <thead>\n",
       "    <tr style=\"text-align: right;\">\n",
       "      <th></th>\n",
       "      <th>variable</th>\n",
       "      <th>VIF</th>\n",
       "    </tr>\n",
       "  </thead>\n",
       "  <tbody>\n",
       "    <tr>\n",
       "      <th>0</th>\n",
       "      <td>Intercept</td>\n",
       "      <td>55.291179</td>\n",
       "    </tr>\n",
       "    <tr>\n",
       "      <th>1</th>\n",
       "      <td>Gender_Male</td>\n",
       "      <td>1.074939</td>\n",
       "    </tr>\n",
       "    <tr>\n",
       "      <th>2</th>\n",
       "      <td>Marital_Status_Married</td>\n",
       "      <td>1.112027</td>\n",
       "    </tr>\n",
       "    <tr>\n",
       "      <th>3</th>\n",
       "      <td>Employment_Category_Labour</td>\n",
       "      <td>9.329894</td>\n",
       "    </tr>\n",
       "    <tr>\n",
       "      <th>4</th>\n",
       "      <td>Employment_Category_Staff</td>\n",
       "      <td>9.389651</td>\n",
       "    </tr>\n",
       "    <tr>\n",
       "      <th>5</th>\n",
       "      <td>Leave_Count</td>\n",
       "      <td>1.338289</td>\n",
       "    </tr>\n",
       "    <tr>\n",
       "      <th>6</th>\n",
       "      <td>Employment_Duration</td>\n",
       "      <td>1.364458</td>\n",
       "    </tr>\n",
       "    <tr>\n",
       "      <th>7</th>\n",
       "      <td>Unavailability_Factor</td>\n",
       "      <td>1.045126</td>\n",
       "    </tr>\n",
       "  </tbody>\n",
       "</table>\n",
       "</div>"
      ],
      "text/plain": [
       "                     variable        VIF\n",
       "0                   Intercept  55.291179\n",
       "1                 Gender_Male   1.074939\n",
       "2      Marital_Status_Married   1.112027\n",
       "3  Employment_Category_Labour   9.329894\n",
       "4   Employment_Category_Staff   9.389651\n",
       "5                 Leave_Count   1.338289\n",
       "6         Employment_Duration   1.364458\n",
       "7       Unavailability_Factor   1.045126"
      ]
     },
     "execution_count": 37,
     "metadata": {},
     "output_type": "execute_result"
    }
   ],
   "source": [
    "vif_df"
   ]
  },
  {
   "cell_type": "markdown",
   "id": "cc0e6bc3",
   "metadata": {},
   "source": [
    "So, need to remove Employment_Category_Labour and Employment_Category_staff before modelling"
   ]
  },
  {
   "cell_type": "code",
   "execution_count": 38,
   "id": "bda1b52c",
   "metadata": {},
   "outputs": [
    {
     "data": {
      "text/html": [
       "<div>\n",
       "<style scoped>\n",
       "    .dataframe tbody tr th:only-of-type {\n",
       "        vertical-align: middle;\n",
       "    }\n",
       "\n",
       "    .dataframe tbody tr th {\n",
       "        vertical-align: top;\n",
       "    }\n",
       "\n",
       "    .dataframe thead th {\n",
       "        text-align: right;\n",
       "    }\n",
       "</style>\n",
       "<table border=\"1\" class=\"dataframe\">\n",
       "  <thead>\n",
       "    <tr style=\"text-align: right;\">\n",
       "      <th></th>\n",
       "      <th>Gender_Male</th>\n",
       "      <th>Marital_Status_Married</th>\n",
       "      <th>Leave_Count</th>\n",
       "      <th>Employment_Duration</th>\n",
       "      <th>Unavailability_Factor</th>\n",
       "      <th>Is_Attrition</th>\n",
       "    </tr>\n",
       "  </thead>\n",
       "  <tbody>\n",
       "    <tr>\n",
       "      <th>0</th>\n",
       "      <td>1</td>\n",
       "      <td>1</td>\n",
       "      <td>11.0</td>\n",
       "      <td>481</td>\n",
       "      <td>0.022869</td>\n",
       "      <td>1.0</td>\n",
       "    </tr>\n",
       "    <tr>\n",
       "      <th>1</th>\n",
       "      <td>1</td>\n",
       "      <td>1</td>\n",
       "      <td>60.0</td>\n",
       "      <td>128</td>\n",
       "      <td>0.468750</td>\n",
       "      <td>1.0</td>\n",
       "    </tr>\n",
       "    <tr>\n",
       "      <th>2</th>\n",
       "      <td>1</td>\n",
       "      <td>1</td>\n",
       "      <td>0.0</td>\n",
       "      <td>117</td>\n",
       "      <td>0.000000</td>\n",
       "      <td>1.0</td>\n",
       "    </tr>\n",
       "    <tr>\n",
       "      <th>3</th>\n",
       "      <td>1</td>\n",
       "      <td>1</td>\n",
       "      <td>0.0</td>\n",
       "      <td>31</td>\n",
       "      <td>0.000000</td>\n",
       "      <td>1.0</td>\n",
       "    </tr>\n",
       "    <tr>\n",
       "      <th>4</th>\n",
       "      <td>1</td>\n",
       "      <td>0</td>\n",
       "      <td>73.5</td>\n",
       "      <td>334</td>\n",
       "      <td>0.220060</td>\n",
       "      <td>1.0</td>\n",
       "    </tr>\n",
       "  </tbody>\n",
       "</table>\n",
       "</div>"
      ],
      "text/plain": [
       "   Gender_Male  Marital_Status_Married  Leave_Count  Employment_Duration  \\\n",
       "0            1                       1         11.0                  481   \n",
       "1            1                       1         60.0                  128   \n",
       "2            1                       1          0.0                  117   \n",
       "3            1                       1          0.0                   31   \n",
       "4            1                       0         73.5                  334   \n",
       "\n",
       "   Unavailability_Factor  Is_Attrition  \n",
       "0               0.022869           1.0  \n",
       "1               0.468750           1.0  \n",
       "2               0.000000           1.0  \n",
       "3               0.000000           1.0  \n",
       "4               0.220060           1.0  "
      ]
     },
     "execution_count": 38,
     "metadata": {},
     "output_type": "execute_result"
    }
   ],
   "source": [
    "df_employee_final.drop([\"Employment_Category_Labour\",\"Employment_Category_Staff\"],axis=1,inplace=True)\n",
    "df_employee_final.head() #This data frame can be used for further processes"
   ]
  },
  {
   "cell_type": "markdown",
   "id": "7390a1df",
   "metadata": {},
   "source": [
    "#### Handling data imbalance"
   ]
  },
  {
   "cell_type": "code",
   "execution_count": 20,
   "id": "85fa2a87",
   "metadata": {},
   "outputs": [
    {
     "data": {
      "image/png": "[encoded data removed]",
      "text/plain": [
       "<Figure size 432x288 with 1 Axes>"
      ]
     },
     "metadata": {
      "needs_background": "light"
     },
     "output_type": "display_data"
    }
   ],
   "source": [
    "temp_plot = df_employee_for_modeling['Status'].value_counts().plot(kind='bar')\n",
    "temp_plot.bar_label(temp_plot.containers[0], labels=df_employee_for_modeling['Is_Attrition'].value_counts())\n",
    "plt.show()"
   ]
  },
  {
   "cell_type": "markdown",
   "id": "ecb4fbdf",
   "metadata": {},
   "source": [
    "Data imbalance should be handled as the percentage of inactive employees is 80.5% and active employees is 19.5%.\n",
    "This can be handled using SMOTE technique."
   ]
  },
  {
   "cell_type": "code",
   "execution_count": 39,
   "id": "305cb0fd",
   "metadata": {},
   "outputs": [],
   "source": [
    "x=df_employee_final.iloc[:,:5]\n",
    "y=df_employee_final.iloc[:,5]"
   ]
  },
  {
   "cell_type": "code",
   "execution_count": 40,
   "id": "ad6cad87",
   "metadata": {},
   "outputs": [
    {
     "data": {
      "text/plain": [
       "1.0    638\n",
       "0.0    638\n",
       "Name: Is_Attrition, dtype: int64"
      ]
     },
     "execution_count": 40,
     "metadata": {},
     "output_type": "execute_result"
    }
   ],
   "source": [
    "smt=SMOTE(random_state = 10)\n",
    "x_sm,y_sm = smt.fit_resample(x,y)\n",
    "y_sm.value_counts()"
   ]
  },
  {
   "cell_type": "code",
   "execution_count": null,
   "id": "086078d0",
   "metadata": {},
   "outputs": [],
   "source": []
  },
  {
   "cell_type": "markdown",
   "id": "155319e8",
   "metadata": {},
   "source": [
    "#### Logistic Regression"
   ]
  },
  {
   "cell_type": "code",
   "execution_count": 41,
   "id": "b9488691",
   "metadata": {},
   "outputs": [
    {
     "data": {
      "text/html": [
       "<style>#sk-container-id-1 {color: black;background-color: white;}#sk-container-id-1 pre{padding: 0;}#sk-container-id-1 div.sk-toggleable {background-color: white;}#sk-container-id-1 label.sk-toggleable__label {cursor: pointer;display: block;width: 100%;margin-bottom: 0;padding: 0.3em;box-sizing: border-box;text-align: center;}#sk-container-id-1 label.sk-toggleable__label-arrow:before {content: \"▸\";float: left;margin-right: 0.25em;color: #696969;}#sk-container-id-1 label.sk-toggleable__label-arrow:hover:before {color: black;}#sk-container-id-1 div.sk-estimator:hover label.sk-toggleable__label-arrow:before {color: black;}#sk-container-id-1 div.sk-toggleable__content {max-height: 0;max-width: 0;overflow: hidden;text-align: left;background-color: #f0f8ff;}#sk-container-id-1 div.sk-toggleable__content pre {margin: 0.2em;color: black;border-radius: 0.25em;background-color: #f0f8ff;}#sk-container-id-1 input.sk-toggleable__control:checked~div.sk-toggleable__content {max-height: 200px;max-width: 100%;overflow: auto;}#sk-container-id-1 input.sk-toggleable__control:checked~label.sk-toggleable__label-arrow:before {content: \"▾\";}#sk-container-id-1 div.sk-estimator input.sk-toggleable__control:checked~label.sk-toggleable__label {background-color: #d4ebff;}#sk-container-id-1 div.sk-label input.sk-toggleable__control:checked~label.sk-toggleable__label {background-color: #d4ebff;}#sk-container-id-1 input.sk-hidden--visually {border: 0;clip: rect(1px 1px 1px 1px);clip: rect(1px, 1px, 1px, 1px);height: 1px;margin: -1px;overflow: hidden;padding: 0;position: absolute;width: 1px;}#sk-container-id-1 div.sk-estimator {font-family: monospace;background-color: #f0f8ff;border: 1px dotted black;border-radius: 0.25em;box-sizing: border-box;margin-bottom: 0.5em;}#sk-container-id-1 div.sk-estimator:hover {background-color: #d4ebff;}#sk-container-id-1 div.sk-parallel-item::after {content: \"\";width: 100%;border-bottom: 1px solid gray;flex-grow: 1;}#sk-container-id-1 div.sk-label:hover label.sk-toggleable__label {background-color: #d4ebff;}#sk-container-id-1 div.sk-serial::before {content: \"\";position: absolute;border-left: 1px solid gray;box-sizing: border-box;top: 0;bottom: 0;left: 50%;z-index: 0;}#sk-container-id-1 div.sk-serial {display: flex;flex-direction: column;align-items: center;background-color: white;padding-right: 0.2em;padding-left: 0.2em;position: relative;}#sk-container-id-1 div.sk-item {position: relative;z-index: 1;}#sk-container-id-1 div.sk-parallel {display: flex;align-items: stretch;justify-content: center;background-color: white;position: relative;}#sk-container-id-1 div.sk-item::before, #sk-container-id-1 div.sk-parallel-item::before {content: \"\";position: absolute;border-left: 1px solid gray;box-sizing: border-box;top: 0;bottom: 0;left: 50%;z-index: -1;}#sk-container-id-1 div.sk-parallel-item {display: flex;flex-direction: column;z-index: 1;position: relative;background-color: white;}#sk-container-id-1 div.sk-parallel-item:first-child::after {align-self: flex-end;width: 50%;}#sk-container-id-1 div.sk-parallel-item:last-child::after {align-self: flex-start;width: 50%;}#sk-container-id-1 div.sk-parallel-item:only-child::after {width: 0;}#sk-container-id-1 div.sk-dashed-wrapped {border: 1px dashed gray;margin: 0 0.4em 0.5em 0.4em;box-sizing: border-box;padding-bottom: 0.4em;background-color: white;}#sk-container-id-1 div.sk-label label {font-family: monospace;font-weight: bold;display: inline-block;line-height: 1.2em;}#sk-container-id-1 div.sk-label-container {text-align: center;}#sk-container-id-1 div.sk-container {/* jupyter's `normalize.less` sets `[hidden] { display: none; }` but bootstrap.min.css set `[hidden] { display: none !important; }` so we also need the `!important` here to be able to override the default hidden behavior on the sphinx rendered scikit-learn.org. See: https://github.com/scikit-learn/scikit-learn/issues/21755 */display: inline-block !important;position: relative;}#sk-container-id-1 div.sk-text-repr-fallback {display: none;}</style><div id=\"sk-container-id-1\" class=\"sk-top-container\"><div class=\"sk-text-repr-fallback\"><pre>LogisticRegression()</pre><b>In a Jupyter environment, please rerun this cell to show the HTML representation or trust the notebook. <br />On GitHub, the HTML representation is unable to render, please try loading this page with nbviewer.org.</b></div><div class=\"sk-container\" hidden><div class=\"sk-item\"><div class=\"sk-estimator sk-toggleable\"><input class=\"sk-toggleable__control sk-hidden--visually\" id=\"sk-estimator-id-1\" type=\"checkbox\" checked><label for=\"sk-estimator-id-1\" class=\"sk-toggleable__label sk-toggleable__label-arrow\">LogisticRegression</label><div class=\"sk-toggleable__content\"><pre>LogisticRegression()</pre></div></div></div></div></div>"
      ],
      "text/plain": [
       "LogisticRegression()"
      ]
     },
     "execution_count": 41,
     "metadata": {},
     "output_type": "execute_result"
    }
   ],
   "source": [
    "x_train, x_test, y_train, y_test = train_test_split(x_sm, y_sm, test_size=0.2, random_state=55)\n",
    "model = LogisticRegression()\n",
    "model.fit(x_train, y_train)"
   ]
  },
  {
   "cell_type": "code",
   "execution_count": 42,
   "id": "78b57be9",
   "metadata": {},
   "outputs": [
    {
     "name": "stdout",
     "output_type": "stream",
     "text": [
      "Accuracy: 0.73046875\n",
      "Precision: 0.7166666666666667\n",
      "Recall: 0.7107438016528925\n",
      "F1 score: 0.7136929460580912\n",
      "R2 score: 0.7136929460580912\n"
     ]
    }
   ],
   "source": [
    "y_predicted = model.predict(x_test)\n",
    "accuracy = accuracy_score(y_test, y_predicted)\n",
    "print(f'Accuracy: {accuracy}')\n",
    "precision = precision_score(y_test, y_predicted)\n",
    "print(f'Precision: {precision}')\n",
    "recall = recall_score(y_test, y_predicted)\n",
    "print(f'Recall: {recall}')\n",
    "f1 = f1_score(y_test, y_predicted)\n",
    "print(f'F1 score: {f1}')\n",
    "r2 = f1_score(y_test, y_predicted)\n",
    "print(f'R2 score: {r2}')"
   ]
  },
  {
   "cell_type": "code",
   "execution_count": 48,
   "id": "7d823c18",
   "metadata": {},
   "outputs": [
    {
     "data": {
      "image/png": "[encoded data removed]",
      "text/plain": [
       "<Figure size 432x288 with 2 Axes>"
      ]
     },
     "metadata": {
      "needs_background": "light"
     },
     "output_type": "display_data"
    }
   ],
   "source": [
    "sns.heatmap(confusion_matrix(y_test,y_predicted),annot=True,fmt=\"g\")\n",
    "plt.xlabel(\"Predicted\")\n",
    "plt.ylabel(\"Actual\")\n",
    "plt.show()"
   ]
  },
  {
   "cell_type": "code",
   "execution_count": 49,
   "id": "27afdbb2",
   "metadata": {},
   "outputs": [
    {
     "data": {
      "text/plain": [
       "0.73046875"
      ]
     },
     "execution_count": 49,
     "metadata": {},
     "output_type": "execute_result"
    }
   ],
   "source": [
    "accuracy_L=(np.diag(confusion_matrix(y_test,y_predicted)).sum())/len(y_test)\n",
    "accuracy_L"
   ]
  },
  {
   "cell_type": "code",
   "execution_count": 50,
   "id": "6d63c339",
   "metadata": {},
   "outputs": [
    {
     "name": "stdout",
     "output_type": "stream",
     "text": [
      "Accuracy of Logistic Regression: 0.73046875 \n",
      "\n",
      "              precision    recall  f1-score   support\n",
      "\n",
      "         0.0       0.74      0.75      0.75       135\n",
      "         1.0       0.72      0.71      0.71       121\n",
      "\n",
      "    accuracy                           0.73       256\n",
      "   macro avg       0.73      0.73      0.73       256\n",
      "weighted avg       0.73      0.73      0.73       256\n",
      "\n"
     ]
    }
   ],
   "source": [
    "print(\"Accuracy of Logistic Regression:\",accuracy_L,'\\n')\n",
    "print(classification_report(y_test,y_predicted))"
   ]
  },
  {
   "cell_type": "code",
   "execution_count": 47,
   "id": "4b243990",
   "metadata": {},
   "outputs": [],
   "source": []
  },
  {
   "cell_type": "code",
   "execution_count": null,
   "id": "9bfb8dc2",
   "metadata": {},
   "outputs": [],
   "source": []
  }
 ],
 "metadata": {
  "kernelspec": {
   "display_name": "Python 3 (ipykernel)",
   "language": "python",
   "name": "python3"
  },
  "language_info": {
   "codemirror_mode": {
    "name": "ipython",
    "version": 3
   },
   "file_extension": ".py",
   "mimetype": "text/x-python",
   "name": "python",
   "nbconvert_exporter": "python",
   "pygments_lexer": "ipython3",
   "version": "3.9.7"
  }
 },
 "nbformat": 4,
 "nbformat_minor": 5
}
