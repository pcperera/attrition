{
 "cells": [
  {
   "cell_type": "code",
   "execution_count": 5,
   "outputs": [
    {
     "data": {
      "text/plain": "array(['Anual', 'Casual', 'Curfew', 'Liue Leave', 'Medical Leave',\n       'No Pay', 'Powercut', 'Sat Holiday', 'Short Leave',\n       'Special Leave', 'WFH'], dtype=object)"
     },
     "execution_count": 5,
     "metadata": {},
     "output_type": "execute_result"
    }
   ],
   "source": [
    "import matplotlib.pyplot as plt\n",
    "import pandas as pd\n",
    "import seaborn\n",
    "\n",
    "df = pd.read_csv('data/leaves_clean.csv')\n",
    "df = df.rename(columns={'Employee_No': 'Employee_Code',\n",
    "                                      'leave_date': 'Leave_Date',\n",
    "                                      'Type': 'Leave_Factor',\n",
    "                                      'Applied Date': 'Applied_Date',\n",
    "                                      'leave_leave_date': 'Lieu_Leave_Date',\n",
    "                                      'Remarks': 'Remarks',\n",
    "                                      'apply_type': 'Leave_Category'})\n",
    "df['Leave_Category'].unique()"
   ],
   "metadata": {
    "collapsed": false
   }
  },
  {
   "cell_type": "code",
   "execution_count": 5,
   "outputs": [],
   "source": [],
   "metadata": {
    "collapsed": false
   }
  }
 ],
 "metadata": {
  "kernelspec": {
   "display_name": "Python 3 (ipykernel)",
   "language": "python",
   "name": "python3"
  },
  "language_info": {
   "codemirror_mode": {
    "name": "ipython",
    "version": 3
   },
   "file_extension": ".py",
   "mimetype": "text/x-python",
   "name": "python",
   "nbconvert_exporter": "python",
   "pygments_lexer": "ipython3",
   "version": "3.9.13"
  }
 },
 "nbformat": 4,
 "nbformat_minor": 5
}
