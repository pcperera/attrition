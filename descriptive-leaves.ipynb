{
 "cells": [
  {
   "cell_type": "code",
   "execution_count": 91,
   "outputs": [
    {
     "data": {
      "text/plain": "   Employee Code  Leave Date\n0            579  2020-01-15\n1            579  2020-01-10\n2            579  2020-01-01\n3            579  2020-03-17\n4            579  2020-03-20",
      "text/html": "<div>\n<style scoped>\n    .dataframe tbody tr th:only-of-type {\n        vertical-align: middle;\n    }\n\n    .dataframe tbody tr th {\n        vertical-align: top;\n    }\n\n    .dataframe thead th {\n        text-align: right;\n    }\n</style>\n<table border=\"1\" class=\"dataframe\">\n  <thead>\n    <tr style=\"text-align: right;\">\n      <th></th>\n      <th>Employee Code</th>\n      <th>Leave Date</th>\n    </tr>\n  </thead>\n  <tbody>\n    <tr>\n      <th>0</th>\n      <td>579</td>\n      <td>2020-01-15</td>\n    </tr>\n    <tr>\n      <th>1</th>\n      <td>579</td>\n      <td>2020-01-10</td>\n    </tr>\n    <tr>\n      <th>2</th>\n      <td>579</td>\n      <td>2020-01-01</td>\n    </tr>\n    <tr>\n      <th>3</th>\n      <td>579</td>\n      <td>2020-03-17</td>\n    </tr>\n    <tr>\n      <th>4</th>\n      <td>579</td>\n      <td>2020-03-20</td>\n    </tr>\n  </tbody>\n</table>\n</div>"
     },
     "execution_count": 91,
     "metadata": {},
     "output_type": "execute_result"
    }
   ],
   "source": [
    "import matplotlib.pyplot as plt\n",
    "import pandas as pd\n",
    "import seaborn\n",
    "\n",
    "df = pd.read_csv('data/leaves.csv', usecols=[0,1], names=['Employee Code', 'Leave Date'])\n",
    "df.head()"
   ],
   "metadata": {
    "collapsed": false
   }
  },
  {
   "cell_type": "code",
   "execution_count": 92,
   "outputs": [
    {
     "data": {
      "text/plain": "Employee Code\n347      64\n348      29\n351      69\n352     124\n354      86\n       ... \n2973      5\n2990      1\n3041      1\n3043      1\n3045      1\nName: Leave Date, Length: 1737, dtype: int64"
     },
     "execution_count": 92,
     "metadata": {},
     "output_type": "execute_result"
    }
   ],
   "source": [
    "df.groupby('Employee Code')['Leave Date'].count()"
   ],
   "metadata": {
    "collapsed": false
   }
  },
  {
   "cell_type": "code",
   "execution_count": 93,
   "outputs": [
    {
     "data": {
      "text/plain": "              count unique         top freq\nEmployee Code                              \n347              64     60  2020-01-29    5\n348              29     29  2021-07-07    1\n351              69     63  2022-01-29    2\n352             124    124  2021-07-24    1\n354              86     86  2021-07-28    1\n...             ...    ...         ...  ...\n2973              5      5  2022-12-08    1\n2990              1      1  2022-12-17    1\n3041              1      1  2022-12-30    1\n3043              1      1  2022-12-19    1\n3045              1      1  2022-12-24    1\n\n[1737 rows x 4 columns]",
      "text/html": "<div>\n<style scoped>\n    .dataframe tbody tr th:only-of-type {\n        vertical-align: middle;\n    }\n\n    .dataframe tbody tr th {\n        vertical-align: top;\n    }\n\n    .dataframe thead th {\n        text-align: right;\n    }\n</style>\n<table border=\"1\" class=\"dataframe\">\n  <thead>\n    <tr style=\"text-align: right;\">\n      <th></th>\n      <th>count</th>\n      <th>unique</th>\n      <th>top</th>\n      <th>freq</th>\n    </tr>\n    <tr>\n      <th>Employee Code</th>\n      <th></th>\n      <th></th>\n      <th></th>\n      <th></th>\n    </tr>\n  </thead>\n  <tbody>\n    <tr>\n      <th>347</th>\n      <td>64</td>\n      <td>60</td>\n      <td>2020-01-29</td>\n      <td>5</td>\n    </tr>\n    <tr>\n      <th>348</th>\n      <td>29</td>\n      <td>29</td>\n      <td>2021-07-07</td>\n      <td>1</td>\n    </tr>\n    <tr>\n      <th>351</th>\n      <td>69</td>\n      <td>63</td>\n      <td>2022-01-29</td>\n      <td>2</td>\n    </tr>\n    <tr>\n      <th>352</th>\n      <td>124</td>\n      <td>124</td>\n      <td>2021-07-24</td>\n      <td>1</td>\n    </tr>\n    <tr>\n      <th>354</th>\n      <td>86</td>\n      <td>86</td>\n      <td>2021-07-28</td>\n      <td>1</td>\n    </tr>\n    <tr>\n      <th>...</th>\n      <td>...</td>\n      <td>...</td>\n      <td>...</td>\n      <td>...</td>\n    </tr>\n    <tr>\n      <th>2973</th>\n      <td>5</td>\n      <td>5</td>\n      <td>2022-12-08</td>\n      <td>1</td>\n    </tr>\n    <tr>\n      <th>2990</th>\n      <td>1</td>\n      <td>1</td>\n      <td>2022-12-17</td>\n      <td>1</td>\n    </tr>\n    <tr>\n      <th>3041</th>\n      <td>1</td>\n      <td>1</td>\n      <td>2022-12-30</td>\n      <td>1</td>\n    </tr>\n    <tr>\n      <th>3043</th>\n      <td>1</td>\n      <td>1</td>\n      <td>2022-12-19</td>\n      <td>1</td>\n    </tr>\n    <tr>\n      <th>3045</th>\n      <td>1</td>\n      <td>1</td>\n      <td>2022-12-24</td>\n      <td>1</td>\n    </tr>\n  </tbody>\n</table>\n<p>1737 rows × 4 columns</p>\n</div>"
     },
     "execution_count": 93,
     "metadata": {},
     "output_type": "execute_result"
    }
   ],
   "source": [],
   "metadata": {
    "collapsed": false
   }
  }
 ],
 "metadata": {
  "kernelspec": {
   "display_name": "Python 3 (ipykernel)",
   "language": "python",
   "name": "python3"
  },
  "language_info": {
   "codemirror_mode": {
    "name": "ipython",
    "version": 3
   },
   "file_extension": ".py",
   "mimetype": "text/x-python",
   "name": "python",
   "nbconvert_exporter": "python",
   "pygments_lexer": "ipython3",
   "version": "3.9.13"
  }
 },
 "nbformat": 4,
 "nbformat_minor": 5
}
