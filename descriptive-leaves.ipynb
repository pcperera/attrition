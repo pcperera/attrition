{
 "cells": [
  {
   "cell_type": "code",
   "execution_count": 41,
   "outputs": [
    {
     "data": {
      "text/plain": "   Employee Code  Leave Date\n0            579  2020-01-15\n1            579  2020-01-10\n2            579  2020-01-01\n3            579  2020-03-17\n4            579  2020-03-20",
      "text/html": "<div>\n<style scoped>\n    .dataframe tbody tr th:only-of-type {\n        vertical-align: middle;\n    }\n\n    .dataframe tbody tr th {\n        vertical-align: top;\n    }\n\n    .dataframe thead th {\n        text-align: right;\n    }\n</style>\n<table border=\"1\" class=\"dataframe\">\n  <thead>\n    <tr style=\"text-align: right;\">\n      <th></th>\n      <th>Employee Code</th>\n      <th>Leave Date</th>\n    </tr>\n  </thead>\n  <tbody>\n    <tr>\n      <th>0</th>\n      <td>579</td>\n      <td>2020-01-15</td>\n    </tr>\n    <tr>\n      <th>1</th>\n      <td>579</td>\n      <td>2020-01-10</td>\n    </tr>\n    <tr>\n      <th>2</th>\n      <td>579</td>\n      <td>2020-01-01</td>\n    </tr>\n    <tr>\n      <th>3</th>\n      <td>579</td>\n      <td>2020-03-17</td>\n    </tr>\n    <tr>\n      <th>4</th>\n      <td>579</td>\n      <td>2020-03-20</td>\n    </tr>\n  </tbody>\n</table>\n</div>"
     },
     "execution_count": 41,
     "metadata": {},
     "output_type": "execute_result"
    }
   ],
   "source": [
    "import matplotlib.pyplot as plt\n",
    "import pandas as pd\n",
    "import seaborn\n",
    "\n",
    "df = pd.read_csv('data/leaves.csv', usecols=[0,1], names=[\"Employee Code\", \"Leave Date\"])\n",
    "df.head()"
   ],
   "metadata": {
    "collapsed": false
   }
  },
  {
   "cell_type": "code",
   "execution_count": 42,
   "outputs": [
    {
     "data": {
      "text/plain": "       Employee Code\ncount   75936.000000\nmean     1598.699826\nstd       655.369906\nmin       347.000000\n25%      1039.000000\n50%      1685.000000\n75%      2104.000000\nmax      3045.000000",
      "text/html": "<div>\n<style scoped>\n    .dataframe tbody tr th:only-of-type {\n        vertical-align: middle;\n    }\n\n    .dataframe tbody tr th {\n        vertical-align: top;\n    }\n\n    .dataframe thead th {\n        text-align: right;\n    }\n</style>\n<table border=\"1\" class=\"dataframe\">\n  <thead>\n    <tr style=\"text-align: right;\">\n      <th></th>\n      <th>Employee Code</th>\n    </tr>\n  </thead>\n  <tbody>\n    <tr>\n      <th>count</th>\n      <td>75936.000000</td>\n    </tr>\n    <tr>\n      <th>mean</th>\n      <td>1598.699826</td>\n    </tr>\n    <tr>\n      <th>std</th>\n      <td>655.369906</td>\n    </tr>\n    <tr>\n      <th>min</th>\n      <td>347.000000</td>\n    </tr>\n    <tr>\n      <th>25%</th>\n      <td>1039.000000</td>\n    </tr>\n    <tr>\n      <th>50%</th>\n      <td>1685.000000</td>\n    </tr>\n    <tr>\n      <th>75%</th>\n      <td>2104.000000</td>\n    </tr>\n    <tr>\n      <th>max</th>\n      <td>3045.000000</td>\n    </tr>\n  </tbody>\n</table>\n</div>"
     },
     "execution_count": 42,
     "metadata": {},
     "output_type": "execute_result"
    }
   ],
   "source": [
    "df.describe()"
   ],
   "metadata": {
    "collapsed": false
   }
  },
  {
   "cell_type": "code",
   "execution_count": 42,
   "outputs": [],
   "source": [],
   "metadata": {
    "collapsed": false
   }
  }
 ],
 "metadata": {
  "kernelspec": {
   "display_name": "Python 3 (ipykernel)",
   "language": "python",
   "name": "python3"
  },
  "language_info": {
   "codemirror_mode": {
    "name": "ipython",
    "version": 3
   },
   "file_extension": ".py",
   "mimetype": "text/x-python",
   "name": "python",
   "nbconvert_exporter": "python",
   "pygments_lexer": "ipython3",
   "version": "3.9.13"
  }
 },
 "nbformat": 4,
 "nbformat_minor": 5
}
